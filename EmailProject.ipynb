{
 "cells": [
  {
   "cell_type": "code",
   "execution_count": 49,
   "metadata": {},
   "outputs": [
    {
     "data": {
      "text/plain": [
       "'cuda'"
      ]
     },
     "execution_count": 49,
     "metadata": {},
     "output_type": "execute_result"
    }
   ],
   "source": [
    "import torch\n",
    "torch.__version__\n",
    "torch.cuda.is_available()\n",
    "\n",
    "device = 'cuda' if torch.cuda.is_available() else 'cpu'\n",
    "device"
   ]
  },
  {
   "cell_type": "code",
   "execution_count": 50,
   "metadata": {},
   "outputs": [],
   "source": [
    "def read_new_email(file_path):\n",
    "    with open(file_path, 'r', encoding='utf-8') as file:\n",
    "        text = file.read()\n",
    "    \n",
    "    parts = text.split('\"')  \n",
    "    \n",
    "    subject = parts[1].strip()\n",
    "    body = parts[3].strip()\n",
    "    label = parts[5].strip()\n",
    "    \n",
    "    new_email = {'Subject':subject, 'Body':body, 'Label':label}\n",
    "    return new_email"
   ]
  },
  {
   "cell_type": "code",
   "execution_count": 51,
   "metadata": {},
   "outputs": [
    {
     "name": "stdout",
     "output_type": "stream",
     "text": [
      "92\n"
     ]
    }
   ],
   "source": [
    "confirmation_emails = []\n",
    "\n",
    "for i in range(1, 93):\n",
    "    file_path = f\"Data/confirmation/conf{i}.txt\"\n",
    "    new_email = read_new_email(file_path)\n",
    "    confirmation_emails.append(new_email)\n",
    "\n",
    "print(len(confirmation_emails))"
   ]
  },
  {
   "cell_type": "code",
   "execution_count": 52,
   "metadata": {},
   "outputs": [
    {
     "name": "stdout",
     "output_type": "stream",
     "text": [
      "104\n"
     ]
    }
   ],
   "source": [
    "rejection_emails = []\n",
    "\n",
    "for i in range(1, 105):\n",
    "    file_path = f\"Data/rejections/rejection{i}.txt\"\n",
    "    new_email = read_new_email(file_path)\n",
    "    rejection_emails.append(new_email)\n",
    "\n",
    "print(len(rejection_emails))"
   ]
  },
  {
   "cell_type": "code",
   "execution_count": 53,
   "metadata": {},
   "outputs": [
    {
     "data": {
      "text/plain": [
       "EmailModel(\n",
       "  (fc1): Linear(in_features=338, out_features=128, bias=True)\n",
       "  (fc2): Linear(in_features=128, out_features=64, bias=True)\n",
       "  (fc3): Linear(in_features=64, out_features=1, bias=True)\n",
       "  (relu): ReLU()\n",
       "  (sigmoid): Sigmoid()\n",
       ")"
      ]
     },
     "execution_count": 53,
     "metadata": {},
     "output_type": "execute_result"
    }
   ],
   "source": [
    "from torch import nn\n",
    "\n",
    "class EmailModel(nn.Module):\n",
    "    def __init__(self, input_size):\n",
    "        super(EmailModel, self).__init__()\n",
    "        self.fc1 = nn.Linear(input_size, 128)\n",
    "        self.fc2 = nn.Linear(128, 64)\n",
    "        self.fc3 = nn.Linear(64, 1)\n",
    "        self.relu = nn.ReLU()\n",
    "        self.sigmoid = nn.Sigmoid()\n",
    "    \n",
    "    def forward(self, x):\n",
    "        x = self.relu(self.fc1(x))\n",
    "        x = self.relu(self.fc2(x))\n",
    "        x = self.fc3(x)\n",
    "        x = self.sigmoid(x)\n",
    "        return x\n",
    "\n",
    "input_size = 338\n",
    "model_1 = EmailModel(input_size).to(device)\n",
    "model_1\n"
   ]
  },
  {
   "cell_type": "code",
   "execution_count": 54,
   "metadata": {},
   "outputs": [],
   "source": [
    "#Accuracy Function\n",
    "\n",
    "def acc_fn(y_true, y_pred):\n",
    "    y_pred = torch.round(y_pred)\n",
    "    correct = torch.eq(y_true, y_pred).sum().item()\n",
    "    accuracy = (correct/len(y_pred)) * 100\n",
    "    return accuracy"
   ]
  },
  {
   "cell_type": "code",
   "execution_count": 55,
   "metadata": {},
   "outputs": [
    {
     "data": {
      "text/plain": [
       "'thanks for your application to spotify! dear applicant, we just got your application for the 2024 summer internship, engineering (new york city) role! even though this is just an automated confirmation email, you should know that we’re truly excited you want to join the band. we’ll get back to you as soon as we can. we get a huge amount of applications, and we look at them all to give everyone fair consideration – so it may take a few weeks (or sometimes months for really popular roles). in the meantime, you can listen to the playlist we’ll play in the office as we read your resume. want to sneak a backstage peek? follow life at spotify on linkedin, instagram, twitter, and youtube. learn more about our culture through our band manifesto, or listen to the greenroom and spoton! podcasts. still curious? check out our hr blog, podcasting website, and engineering blog! all the best, the spotify recruiting team'"
      ]
     },
     "execution_count": 55,
     "metadata": {},
     "output_type": "execute_result"
    }
   ],
   "source": [
    "for i in range(0, len(confirmation_emails)):\n",
    "    subject = confirmation_emails[i][\"Subject\"]\n",
    "    body = confirmation_emails[i][\"Body\"]\n",
    "    confirmation_emails[i] = f\"{subject} {body}\"\n",
    "\n",
    "confirmation_emails[0]"
   ]
  },
  {
   "cell_type": "code",
   "execution_count": 56,
   "metadata": {},
   "outputs": [
    {
     "data": {
      "text/plain": [
       "\"update on your skydio application - wireless software intern hi applicant, thank you for applying for the wireless software intern role at skydio! we know that there are lots of exciting companies out there, so we appreciate the time you took to apply to ours. after reviewing your application, we have unfortunately decided not to move forward at this time. while we greatly appreciate your interest in skydio, we ultimately decided to proceed with other candidates whose skills and experience align more closely with our needs for this specific role. if you submitted an application to other roles at skydio and haven't heard back, then your resume is still under review and we will be in touch soon with an update. our hiring priorities are constantly evolving, so we encourage you to keep an eye on our jobs page. if you see another role that seems like a good fit, please don't hesitate to apply. in the meantime, we'd like to thank you again for your interest and we wish you all the best in your job search. cheers, skydio talent team\""
      ]
     },
     "execution_count": 56,
     "metadata": {},
     "output_type": "execute_result"
    }
   ],
   "source": [
    "for i in range(0, len(rejection_emails)):\n",
    "    subject = rejection_emails[i][\"Subject\"]\n",
    "    body = rejection_emails[i][\"Body\"]\n",
    "    rejection_emails[i] = f\"{subject} {body}\"\n",
    "\n",
    "rejection_emails[0]"
   ]
  },
  {
   "cell_type": "code",
   "execution_count": 57,
   "metadata": {},
   "outputs": [],
   "source": [
    "confirmation_labels = [1] * len(confirmation_emails)\n",
    "rejection_labels = [0] * len(rejection_emails)"
   ]
  },
  {
   "cell_type": "code",
   "execution_count": 58,
   "metadata": {},
   "outputs": [],
   "source": [
    "emails = confirmation_emails + rejection_emails\n",
    "labels = confirmation_labels + rejection_labels"
   ]
  },
  {
   "cell_type": "code",
   "execution_count": 59,
   "metadata": {},
   "outputs": [],
   "source": [
    "import numpy as np\n",
    "from sklearn.feature_extraction.text import TfidfVectorizer\n",
    "\n",
    "# Convert text data to TF-IDF features\n",
    "vectorizer = TfidfVectorizer(stop_words='english', max_features=338)  # Limit to 338 features\n",
    "X = vectorizer.fit_transform(emails).toarray()\n",
    "y = np.array(labels)"
   ]
  },
  {
   "cell_type": "code",
   "execution_count": 60,
   "metadata": {},
   "outputs": [],
   "source": [
    "import torch\n",
    "from sklearn.model_selection import train_test_split\n",
    "\n",
    "# Split the data into training and test sets\n",
    "X_train, X_test, y_train, y_test = train_test_split(X, y, test_size=0.2, random_state=42)\n",
    "\n",
    "# Convert to PyTorch tensors\n",
    "X_train_tensors = torch.tensor(X_train, dtype=torch.float32)\n",
    "X_test_tensors = torch.tensor(X_test, dtype=torch.float32)\n",
    "y_train_tensors = torch.tensor(y_train, dtype=torch.float32)\n",
    "y_test_tensors = torch.tensor(y_test, dtype=torch.float32)"
   ]
  },
  {
   "cell_type": "code",
   "execution_count": 61,
   "metadata": {},
   "outputs": [
    {
     "name": "stdout",
     "output_type": "stream",
     "text": [
      "Epoch: 1 | Train Loss: 0.6960, Train Acc: 46.79% | Test Loss: 0.6945, Test Acc: 47.50%\n",
      "Epoch: 2 | Train Loss: 0.6947, Train Acc: 46.79% | Test Loss: 0.6937, Test Acc: 47.50%\n",
      "Epoch: 3 | Train Loss: 0.6936, Train Acc: 46.79% | Test Loss: 0.6928, Test Acc: 47.50%\n",
      "Epoch: 4 | Train Loss: 0.6923, Train Acc: 46.79% | Test Loss: 0.6919, Test Acc: 47.50%\n",
      "Epoch: 5 | Train Loss: 0.6910, Train Acc: 46.79% | Test Loss: 0.6908, Test Acc: 47.50%\n",
      "Epoch: 6 | Train Loss: 0.6895, Train Acc: 46.79% | Test Loss: 0.6897, Test Acc: 47.50%\n",
      "Epoch: 7 | Train Loss: 0.6878, Train Acc: 46.79% | Test Loss: 0.6884, Test Acc: 47.50%\n",
      "Epoch: 8 | Train Loss: 0.6860, Train Acc: 50.00% | Test Loss: 0.6869, Test Acc: 55.00%\n",
      "Epoch: 9 | Train Loss: 0.6839, Train Acc: 64.74% | Test Loss: 0.6853, Test Acc: 70.00%\n",
      "Epoch: 10 | Train Loss: 0.6817, Train Acc: 86.54% | Test Loss: 0.6835, Test Acc: 87.50%\n",
      "Epoch: 11 | Train Loss: 0.6792, Train Acc: 94.87% | Test Loss: 0.6815, Test Acc: 87.50%\n",
      "Epoch: 12 | Train Loss: 0.6765, Train Acc: 97.44% | Test Loss: 0.6792, Test Acc: 85.00%\n",
      "Epoch: 13 | Train Loss: 0.6734, Train Acc: 98.72% | Test Loss: 0.6767, Test Acc: 85.00%\n",
      "Epoch: 14 | Train Loss: 0.6700, Train Acc: 98.72% | Test Loss: 0.6740, Test Acc: 87.50%\n",
      "Epoch: 15 | Train Loss: 0.6663, Train Acc: 98.72% | Test Loss: 0.6709, Test Acc: 87.50%\n",
      "Epoch: 16 | Train Loss: 0.6621, Train Acc: 98.72% | Test Loss: 0.6676, Test Acc: 87.50%\n",
      "Epoch: 17 | Train Loss: 0.6575, Train Acc: 98.72% | Test Loss: 0.6639, Test Acc: 87.50%\n",
      "Epoch: 18 | Train Loss: 0.6525, Train Acc: 98.72% | Test Loss: 0.6598, Test Acc: 87.50%\n",
      "Epoch: 19 | Train Loss: 0.6469, Train Acc: 98.72% | Test Loss: 0.6554, Test Acc: 87.50%\n",
      "Epoch: 20 | Train Loss: 0.6408, Train Acc: 98.72% | Test Loss: 0.6505, Test Acc: 92.50%\n",
      "Epoch: 21 | Train Loss: 0.6341, Train Acc: 98.72% | Test Loss: 0.6453, Test Acc: 92.50%\n",
      "Epoch: 22 | Train Loss: 0.6269, Train Acc: 98.72% | Test Loss: 0.6396, Test Acc: 92.50%\n",
      "Epoch: 23 | Train Loss: 0.6190, Train Acc: 98.72% | Test Loss: 0.6335, Test Acc: 92.50%\n",
      "Epoch: 24 | Train Loss: 0.6105, Train Acc: 98.72% | Test Loss: 0.6269, Test Acc: 92.50%\n",
      "Epoch: 25 | Train Loss: 0.6014, Train Acc: 98.72% | Test Loss: 0.6199, Test Acc: 92.50%\n",
      "Epoch: 26 | Train Loss: 0.5916, Train Acc: 98.72% | Test Loss: 0.6125, Test Acc: 92.50%\n",
      "Epoch: 27 | Train Loss: 0.5811, Train Acc: 98.72% | Test Loss: 0.6047, Test Acc: 92.50%\n",
      "Epoch: 28 | Train Loss: 0.5700, Train Acc: 98.72% | Test Loss: 0.5964, Test Acc: 92.50%\n",
      "Epoch: 29 | Train Loss: 0.5581, Train Acc: 98.72% | Test Loss: 0.5877, Test Acc: 92.50%\n",
      "Epoch: 30 | Train Loss: 0.5455, Train Acc: 98.72% | Test Loss: 0.5785, Test Acc: 92.50%\n",
      "Epoch: 31 | Train Loss: 0.5321, Train Acc: 98.72% | Test Loss: 0.5689, Test Acc: 92.50%\n",
      "Epoch: 32 | Train Loss: 0.5180, Train Acc: 98.72% | Test Loss: 0.5589, Test Acc: 92.50%\n",
      "Epoch: 33 | Train Loss: 0.5031, Train Acc: 98.72% | Test Loss: 0.5485, Test Acc: 92.50%\n",
      "Epoch: 34 | Train Loss: 0.4875, Train Acc: 98.72% | Test Loss: 0.5376, Test Acc: 92.50%\n",
      "Epoch: 35 | Train Loss: 0.4713, Train Acc: 98.72% | Test Loss: 0.5265, Test Acc: 92.50%\n",
      "Epoch: 36 | Train Loss: 0.4544, Train Acc: 98.72% | Test Loss: 0.5150, Test Acc: 92.50%\n",
      "Epoch: 37 | Train Loss: 0.4369, Train Acc: 98.72% | Test Loss: 0.5033, Test Acc: 92.50%\n",
      "Epoch: 38 | Train Loss: 0.4188, Train Acc: 98.72% | Test Loss: 0.4914, Test Acc: 92.50%\n",
      "Epoch: 39 | Train Loss: 0.4004, Train Acc: 98.72% | Test Loss: 0.4794, Test Acc: 92.50%\n",
      "Epoch: 40 | Train Loss: 0.3815, Train Acc: 98.72% | Test Loss: 0.4673, Test Acc: 92.50%\n",
      "Epoch: 41 | Train Loss: 0.3624, Train Acc: 98.72% | Test Loss: 0.4553, Test Acc: 92.50%\n",
      "Epoch: 42 | Train Loss: 0.3432, Train Acc: 98.72% | Test Loss: 0.4435, Test Acc: 92.50%\n",
      "Epoch: 43 | Train Loss: 0.3239, Train Acc: 98.72% | Test Loss: 0.4319, Test Acc: 92.50%\n",
      "Epoch: 44 | Train Loss: 0.3047, Train Acc: 98.72% | Test Loss: 0.4206, Test Acc: 92.50%\n",
      "Epoch: 45 | Train Loss: 0.2857, Train Acc: 98.72% | Test Loss: 0.4097, Test Acc: 92.50%\n",
      "Epoch: 46 | Train Loss: 0.2670, Train Acc: 98.72% | Test Loss: 0.3994, Test Acc: 92.50%\n",
      "Epoch: 47 | Train Loss: 0.2487, Train Acc: 98.72% | Test Loss: 0.3897, Test Acc: 92.50%\n",
      "Epoch: 48 | Train Loss: 0.2309, Train Acc: 98.72% | Test Loss: 0.3807, Test Acc: 92.50%\n",
      "Epoch: 49 | Train Loss: 0.2138, Train Acc: 98.72% | Test Loss: 0.3724, Test Acc: 92.50%\n",
      "Epoch: 50 | Train Loss: 0.1974, Train Acc: 98.72% | Test Loss: 0.3649, Test Acc: 92.50%\n",
      "Epoch: 51 | Train Loss: 0.1817, Train Acc: 99.36% | Test Loss: 0.3583, Test Acc: 92.50%\n",
      "Epoch: 52 | Train Loss: 0.1668, Train Acc: 99.36% | Test Loss: 0.3524, Test Acc: 92.50%\n",
      "Epoch: 53 | Train Loss: 0.1529, Train Acc: 99.36% | Test Loss: 0.3475, Test Acc: 92.50%\n",
      "Epoch: 54 | Train Loss: 0.1398, Train Acc: 99.36% | Test Loss: 0.3434, Test Acc: 92.50%\n",
      "Epoch: 55 | Train Loss: 0.1275, Train Acc: 99.36% | Test Loss: 0.3401, Test Acc: 92.50%\n",
      "Epoch: 56 | Train Loss: 0.1162, Train Acc: 99.36% | Test Loss: 0.3377, Test Acc: 92.50%\n",
      "Epoch: 57 | Train Loss: 0.1057, Train Acc: 99.36% | Test Loss: 0.3360, Test Acc: 92.50%\n",
      "Epoch: 58 | Train Loss: 0.0961, Train Acc: 99.36% | Test Loss: 0.3351, Test Acc: 92.50%\n",
      "Epoch: 59 | Train Loss: 0.0873, Train Acc: 99.36% | Test Loss: 0.3350, Test Acc: 92.50%\n",
      "Epoch: 60 | Train Loss: 0.0792, Train Acc: 99.36% | Test Loss: 0.3354, Test Acc: 90.00%\n",
      "Epoch: 61 | Train Loss: 0.0718, Train Acc: 100.00% | Test Loss: 0.3365, Test Acc: 90.00%\n",
      "Epoch: 62 | Train Loss: 0.0652, Train Acc: 100.00% | Test Loss: 0.3380, Test Acc: 87.50%\n",
      "Epoch: 63 | Train Loss: 0.0591, Train Acc: 100.00% | Test Loss: 0.3400, Test Acc: 85.00%\n",
      "Epoch: 64 | Train Loss: 0.0536, Train Acc: 100.00% | Test Loss: 0.3425, Test Acc: 85.00%\n",
      "Epoch: 65 | Train Loss: 0.0487, Train Acc: 100.00% | Test Loss: 0.3453, Test Acc: 85.00%\n",
      "Epoch: 66 | Train Loss: 0.0442, Train Acc: 100.00% | Test Loss: 0.3484, Test Acc: 85.00%\n",
      "Epoch: 67 | Train Loss: 0.0402, Train Acc: 100.00% | Test Loss: 0.3519, Test Acc: 85.00%\n",
      "Epoch: 68 | Train Loss: 0.0366, Train Acc: 100.00% | Test Loss: 0.3555, Test Acc: 85.00%\n",
      "Epoch: 69 | Train Loss: 0.0333, Train Acc: 100.00% | Test Loss: 0.3594, Test Acc: 85.00%\n",
      "Epoch: 70 | Train Loss: 0.0304, Train Acc: 100.00% | Test Loss: 0.3634, Test Acc: 85.00%\n",
      "Epoch: 71 | Train Loss: 0.0279, Train Acc: 100.00% | Test Loss: 0.3675, Test Acc: 85.00%\n",
      "Epoch: 72 | Train Loss: 0.0255, Train Acc: 100.00% | Test Loss: 0.3717, Test Acc: 85.00%\n",
      "Epoch: 73 | Train Loss: 0.0235, Train Acc: 100.00% | Test Loss: 0.3759, Test Acc: 85.00%\n",
      "Epoch: 74 | Train Loss: 0.0216, Train Acc: 100.00% | Test Loss: 0.3801, Test Acc: 85.00%\n",
      "Epoch: 75 | Train Loss: 0.0200, Train Acc: 100.00% | Test Loss: 0.3842, Test Acc: 85.00%\n",
      "Epoch: 76 | Train Loss: 0.0185, Train Acc: 100.00% | Test Loss: 0.3884, Test Acc: 85.00%\n",
      "Epoch: 77 | Train Loss: 0.0171, Train Acc: 100.00% | Test Loss: 0.3925, Test Acc: 85.00%\n",
      "Epoch: 78 | Train Loss: 0.0159, Train Acc: 100.00% | Test Loss: 0.3965, Test Acc: 85.00%\n",
      "Epoch: 79 | Train Loss: 0.0149, Train Acc: 100.00% | Test Loss: 0.4005, Test Acc: 85.00%\n",
      "Epoch: 80 | Train Loss: 0.0139, Train Acc: 100.00% | Test Loss: 0.4043, Test Acc: 85.00%\n",
      "Epoch: 81 | Train Loss: 0.0130, Train Acc: 100.00% | Test Loss: 0.4080, Test Acc: 85.00%\n",
      "Epoch: 82 | Train Loss: 0.0122, Train Acc: 100.00% | Test Loss: 0.4117, Test Acc: 85.00%\n",
      "Epoch: 83 | Train Loss: 0.0115, Train Acc: 100.00% | Test Loss: 0.4153, Test Acc: 85.00%\n",
      "Epoch: 84 | Train Loss: 0.0109, Train Acc: 100.00% | Test Loss: 0.4187, Test Acc: 85.00%\n",
      "Epoch: 85 | Train Loss: 0.0103, Train Acc: 100.00% | Test Loss: 0.4221, Test Acc: 85.00%\n",
      "Epoch: 86 | Train Loss: 0.0097, Train Acc: 100.00% | Test Loss: 0.4255, Test Acc: 85.00%\n",
      "Epoch: 87 | Train Loss: 0.0092, Train Acc: 100.00% | Test Loss: 0.4287, Test Acc: 85.00%\n",
      "Epoch: 88 | Train Loss: 0.0088, Train Acc: 100.00% | Test Loss: 0.4318, Test Acc: 85.00%\n",
      "Epoch: 89 | Train Loss: 0.0084, Train Acc: 100.00% | Test Loss: 0.4348, Test Acc: 85.00%\n",
      "Epoch: 90 | Train Loss: 0.0080, Train Acc: 100.00% | Test Loss: 0.4378, Test Acc: 85.00%\n",
      "Epoch: 91 | Train Loss: 0.0076, Train Acc: 100.00% | Test Loss: 0.4407, Test Acc: 85.00%\n",
      "Epoch: 92 | Train Loss: 0.0073, Train Acc: 100.00% | Test Loss: 0.4434, Test Acc: 85.00%\n",
      "Epoch: 93 | Train Loss: 0.0070, Train Acc: 100.00% | Test Loss: 0.4462, Test Acc: 85.00%\n",
      "Epoch: 94 | Train Loss: 0.0067, Train Acc: 100.00% | Test Loss: 0.4488, Test Acc: 85.00%\n",
      "Epoch: 95 | Train Loss: 0.0065, Train Acc: 100.00% | Test Loss: 0.4513, Test Acc: 85.00%\n",
      "Epoch: 96 | Train Loss: 0.0062, Train Acc: 100.00% | Test Loss: 0.4538, Test Acc: 85.00%\n",
      "Epoch: 97 | Train Loss: 0.0060, Train Acc: 100.00% | Test Loss: 0.4562, Test Acc: 85.00%\n",
      "Epoch: 98 | Train Loss: 0.0058, Train Acc: 100.00% | Test Loss: 0.4586, Test Acc: 85.00%\n",
      "Epoch: 99 | Train Loss: 0.0056, Train Acc: 100.00% | Test Loss: 0.4608, Test Acc: 85.00%\n",
      "Epoch: 100 | Train Loss: 0.0054, Train Acc: 100.00% | Test Loss: 0.4630, Test Acc: 85.00%\n"
     ]
    }
   ],
   "source": [
    "from torch import nn, optim\n",
    "\n",
    "# Define the model\n",
    "input_size = X_train_tensors.shape[1]\n",
    "model = EmailModel(input_size).to(device)\n",
    "X_test_tensors = X_test_tensors.to(device)\n",
    "X_train_tensors = X_train_tensors.to(device)\n",
    "y_train_tensors = y_train_tensors.to(device)\n",
    "y_test_tensors = y_test_tensors.to(device)\n",
    "\n",
    "# Loss function and optimizer\n",
    "loss_fn = nn.BCELoss()\n",
    "optimizer = optim.Adam(model.parameters(), lr=0.001)\n",
    "\n",
    "# Training loop\n",
    "epochs = 100\n",
    "\n",
    "for epoch in range(epochs):\n",
    "    model.train()\n",
    "\n",
    "    # Forward pass\n",
    "    train_preds = model(X_train_tensors).squeeze()\n",
    "    train_loss = loss_fn(train_preds, y_train_tensors)\n",
    "    train_acc = acc_fn(y_train_tensors, train_preds)\n",
    "\n",
    "    # Backward pass and optimization\n",
    "    optimizer.zero_grad()\n",
    "    train_loss.backward()\n",
    "    optimizer.step()\n",
    "\n",
    "    # Evaluation\n",
    "    model.eval()\n",
    "    with torch.no_grad():\n",
    "        test_preds = model(X_test_tensors).squeeze()\n",
    "        test_loss = loss_fn(test_preds, y_test_tensors)\n",
    "        test_acc = acc_fn(y_test_tensors, test_preds)\n",
    "        \n",
    "    print(f\"Epoch: {epoch+1} | Train Loss: {train_loss:.4f}, Train Acc: {train_acc:.2f}% | Test Loss: {test_loss:.4f}, Test Acc: {test_acc:.2f}%\")"
   ]
  }
 ],
 "metadata": {
  "kernelspec": {
   "display_name": "Python 3",
   "language": "python",
   "name": "python3"
  },
  "language_info": {
   "codemirror_mode": {
    "name": "ipython",
    "version": 3
   },
   "file_extension": ".py",
   "mimetype": "text/x-python",
   "name": "python",
   "nbconvert_exporter": "python",
   "pygments_lexer": "ipython3",
   "version": "3.11.7"
  }
 },
 "nbformat": 4,
 "nbformat_minor": 2
}
