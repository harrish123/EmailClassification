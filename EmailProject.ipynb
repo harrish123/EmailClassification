{
 "cells": [
  {
   "cell_type": "code",
   "execution_count": 3,
   "metadata": {},
   "outputs": [
    {
     "data": {
      "text/plain": [
       "True"
      ]
     },
     "execution_count": 3,
     "metadata": {},
     "output_type": "execute_result"
    }
   ],
   "source": [
    "import torch\n",
    "torch.__version__\n",
    "torch.cuda.is_available()"
   ]
  },
  {
   "cell_type": "code",
   "execution_count": 5,
   "metadata": {},
   "outputs": [
    {
     "data": {
      "text/plain": [
       "{'Subject': 'your application to the position of 2024 it intern – 31060216',\n",
       " 'Body': 'dear [name] ,we received your application for the position of 2024 it intern – 31060216 and are reviewing your experience and qualifications. if you meet the requirements of the position, a member of our talent acquisition team will contact you. you can view your application status by signing in to your candidate home using the same email and password used when you applied to the job. once signed in, click on your email address in upper right and select view profile. under my applications is where you can view the status of the jobs you have applied to. thank you for your interest in abbott. please feel free to learn more about our company, and continue to view open positions, by visiting our website at www.jobs.abbott.com. to keep up to date with abbott news, click the links and connect with us:',\n",
       " 'Label': 'confirmation'}"
      ]
     },
     "execution_count": 5,
     "metadata": {},
     "output_type": "execute_result"
    }
   ],
   "source": [
    "def read_new_email(file_path):\n",
    "    with open(file_path, 'r', encoding='utf-8') as file:\n",
    "        text = file.read()\n",
    "    \n",
    "    parts = text.split('\"')  \n",
    "    \n",
    "    subject = parts[1].strip()\n",
    "    body = parts[3].strip()\n",
    "    label = parts[5].strip()\n",
    "    \n",
    "    new_email = {'Subject':subject, 'Body':body, 'Label':label}\n",
    "    return new_email"
   ]
  },
  {
   "cell_type": "code",
   "execution_count": 7,
   "metadata": {},
   "outputs": [
    {
     "name": "stdout",
     "output_type": "stream",
     "text": [
      "Email #1: confirmation\n",
      "Email #2: confirmation\n",
      "Email #3: confirmation\n",
      "Email #4: confirmation\n",
      "Email #5: confirmation\n",
      "Email #6: confirmation\n",
      "Email #7: confirmation\n",
      "Email #8: confirmation\n",
      "Email #9: confirmation\n",
      "Email #10: confirmation\n"
     ]
    }
   ],
   "source": [
    "confirmation_emails = []\n",
    "\n",
    "for i in range(1, 92):\n",
    "    file_path = f\"Data/confirmation/conf{i}.txt\"\n",
    "    new_email = read_new_email(file_path)\n",
    "    confirmation_emails.append(new_email)\n",
    "\n",
    "for i in range(0,10):\n",
    "    print(f\"Email #{i+1}: {confirmation_emails[i].get('Label')}\")"
   ]
  }
 ],
 "metadata": {
  "kernelspec": {
   "display_name": "Python 3",
   "language": "python",
   "name": "python3"
  },
  "language_info": {
   "codemirror_mode": {
    "name": "ipython",
    "version": 3
   },
   "file_extension": ".py",
   "mimetype": "text/x-python",
   "name": "python",
   "nbconvert_exporter": "python",
   "pygments_lexer": "ipython3",
   "version": "3.11.8"
  }
 },
 "nbformat": 4,
 "nbformat_minor": 2
}
