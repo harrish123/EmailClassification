{
 "cells": [
  {
   "cell_type": "code",
   "execution_count": 67,
   "metadata": {},
   "outputs": [],
   "source": [
    "import torch\n",
    "torch.__version__\n",
    "torch.cuda.is_available()\n",
    "\n",
    "device = 'cuda' if torch.cuda.is_available() else 'cpu'"
   ]
  },
  {
   "cell_type": "code",
   "execution_count": 68,
   "metadata": {},
   "outputs": [],
   "source": [
    "def read_new_email(file_path):\n",
    "    with open(file_path, 'r', encoding='utf-8') as file:\n",
    "        text = file.read()\n",
    "    \n",
    "    parts = text.split('\"')  \n",
    "    \n",
    "    subject = parts[1].strip()\n",
    "    body = parts[3].strip()\n",
    "    label = parts[5].strip()\n",
    "    \n",
    "    new_email = {'Subject':subject, 'Body':body, 'Label':label}\n",
    "    return new_email"
   ]
  },
  {
   "cell_type": "code",
   "execution_count": 69,
   "metadata": {},
   "outputs": [
    {
     "name": "stdout",
     "output_type": "stream",
     "text": [
      "92\n"
     ]
    }
   ],
   "source": [
    "confirmation_emails = []\n",
    "\n",
    "for i in range(1, 93):\n",
    "    file_path = f\"Data/confirmation/conf{i}.txt\"\n",
    "    new_email = read_new_email(file_path)\n",
    "    confirmation_emails.append(new_email)\n",
    "\n",
    "print(len(confirmation_emails))"
   ]
  },
  {
   "cell_type": "code",
   "execution_count": 70,
   "metadata": {},
   "outputs": [
    {
     "name": "stdout",
     "output_type": "stream",
     "text": [
      "104\n"
     ]
    }
   ],
   "source": [
    "rejection_emails = []\n",
    "\n",
    "for i in range(1, 105):\n",
    "    file_path = f\"Data/rejections/rejection{i}.txt\"\n",
    "    new_email = read_new_email(file_path)\n",
    "    rejection_emails.append(new_email)\n",
    "\n",
    "print(len(rejection_emails))"
   ]
  },
  {
   "cell_type": "code",
   "execution_count": 71,
   "metadata": {},
   "outputs": [],
   "source": [
    "from sklearn.model_selection import train_test_split\n",
    "\n",
    "all_emails = []\n",
    "\n",
    "\n",
    "for i in range(0, len(confirmation_emails)):\n",
    "    if isinstance(confirmation_emails[i], dict):\n",
    "        all_emails.append(confirmation_emails[i])\n",
    "\n",
    "for i in range(0, len(rejection_emails)):\n",
    "    if isinstance(rejection_emails[i], dict):\n",
    "        all_emails.append(rejection_emails[i])\n",
    "\n",
    "messages = []\n",
    "labels = []\n",
    "\n",
    "\n",
    "for i in range(0, len(all_emails)):\n",
    "    text = all_emails[i]['Subject'] + \" \" + all_emails[i]['Body']\n",
    "    label = all_emails[i]['Label']\n",
    "\n",
    "    messages.append(text)\n",
    "    labels.append(label)\n",
    "\n",
    "\n",
    "X_train, X_test, y_train, y_test = train_test_split(messages,\n",
    "                                                    labels, \n",
    "                                                    test_size=0.2, \n",
    "                                                    train_size=0.8, \n",
    "                                                    random_state=42)"
   ]
  },
  {
   "cell_type": "code",
   "execution_count": 72,
   "metadata": {},
   "outputs": [],
   "source": [
    "label_to_index = {\"rejection\": 0,\n",
    "                  \"confirmation\": 1}\n",
    "\n",
    "def tensor_format(arr):\n",
    "    for i in range(0, len(arr)):\n",
    "        if(arr[i] == 'rejection'):\n",
    "            arr[i] = 0\n",
    "        else:\n",
    "            arr[i] = 1\n",
    "\n",
    "\n",
    "tensor_format(y_train)    \n",
    "\n",
    "tensor_format(y_test)\n"
   ]
  },
  {
   "cell_type": "code",
   "execution_count": 73,
   "metadata": {},
   "outputs": [],
   "source": [
    "from torchtext.data import get_tokenizer\n",
    "from torchtext.vocab import build_vocab_from_iterator\n",
    "\n",
    "tokenizer = get_tokenizer(\"basic_english\")\n",
    "\n",
    "def token_iterator():\n",
    "    for text in X_train:\n",
    "        yield tokenizer(text)\n",
    "\n",
    "# Build the vocabulary from the iterator\n",
    "vocab = build_vocab_from_iterator(token_iterator(), specials = [\"<unk>\"])\n",
    "vocab.set_default_index(vocab[\"<unk>\"])\n",
    "\n"
   ]
  },
  {
   "cell_type": "code",
   "execution_count": 97,
   "metadata": {},
   "outputs": [
    {
     "data": {
      "text/plain": [
       "torch.Size([156, 338])"
      ]
     },
     "execution_count": 97,
     "metadata": {},
     "output_type": "execute_result"
    }
   ],
   "source": [
    "max_length = max(len(tokenizer(text)) for text in X_train)\n",
    "\n",
    "# def encode_text(text):\n",
    "#     tokens = tokenizer(text)\n",
    "#     return [vocab[token] for token in tokens]\n",
    "\n",
    "def encode_text(text, max_length):\n",
    "    tokens = tokenizer(text)\n",
    "    encoded_tokens = [vocab[token] for token in tokens]\n",
    "    # Pad or truncate sequences to max_length\n",
    "    if len(encoded_tokens) < max_length:\n",
    "        encoded_tokens += [vocab[\"<PAD>\"]] * (max_length - len(encoded_tokens))\n",
    "    else:\n",
    "        encoded_tokens = encoded_tokens[:max_length]\n",
    "    return encoded_tokens\n",
    "\n",
    "y_train_tensors = torch.tensor(y_train, dtype=torch.float)\n",
    "y_test_tensors = torch.tensor(y_test, dtype=torch.float)\n",
    "\n",
    "X_train_tensors = torch.stack([torch.tensor(encode_text(text, max_length), dtype=torch.float) for text in X_train])\n",
    "X_test_tensors = torch.stack([torch.tensor(encode_text(text, max_length), dtype=torch.float) for text in X_test])\n",
    "\n",
    "X_train_tensors.size()\n",
    "\n"
   ]
  },
  {
   "cell_type": "code",
   "execution_count": 159,
   "metadata": {},
   "outputs": [
    {
     "data": {
      "text/plain": [
       "EmailModel(\n",
       "  (layer1): Linear(in_features=338, out_features=32, bias=True)\n",
       "  (layer2): Linear(in_features=32, out_features=32, bias=True)\n",
       "  (output_layer): Linear(in_features=32, out_features=2, bias=True)\n",
       ")"
      ]
     },
     "execution_count": 159,
     "metadata": {},
     "output_type": "execute_result"
    }
   ],
   "source": [
    "#Model\n",
    "from torch import nn\n",
    "\n",
    "class EmailModel(nn.Module):\n",
    "    def __init__(self):\n",
    "        super().__init__()\n",
    "        self.layer1 = nn.Linear(in_features=338, out_features=32) \n",
    "        self.layer2 = nn.Linear(in_features=32, out_features=32)\n",
    "        self.output_layer = nn.Linear(in_features=32, out_features=2)\n",
    "   \n",
    "    def forward(self, x):\n",
    "        return self.output_layer(self.layer2(self.layer1(x)))\n",
    "\n",
    "model_1 = EmailModel().to(device)\n",
    "model_1"
   ]
  },
  {
   "cell_type": "code",
   "execution_count": 160,
   "metadata": {},
   "outputs": [],
   "source": [
    "#Loss Function and Optimizer\n",
    "\n",
    "from torch import nn\n",
    "\n",
    "loss_fn = nn.BCEWithLogitsLoss()\n",
    "optimizer = torch.optim.SGD(model_1.parameters(), lr=0.1)"
   ]
  },
  {
   "cell_type": "code",
   "execution_count": 168,
   "metadata": {},
   "outputs": [],
   "source": [
    "#Accuracy Function\n",
    "\n",
    "def acc_fn(y_true, y_pred):\n",
    "    correct = torch.eq(y_true, y_pred).sum().item()\n",
    "    accuracy = (correct/len(y_pred)) * 100\n",
    "    return accuracy"
   ]
  },
  {
   "cell_type": "code",
   "execution_count": 169,
   "metadata": {},
   "outputs": [
    {
     "ename": "ValueError",
     "evalue": "Target size (torch.Size([156])) must be the same as input size (torch.Size([156, 2]))",
     "output_type": "error",
     "traceback": [
      "\u001b[1;31m---------------------------------------------------------------------------\u001b[0m",
      "\u001b[1;31mValueError\u001b[0m                                Traceback (most recent call last)",
      "Cell \u001b[1;32mIn[169], line 16\u001b[0m\n\u001b[0;32m     11\u001b[0m train_logits \u001b[38;5;241m=\u001b[39m model_1(X_train_tensors)\u001b[38;5;241m.\u001b[39msqueeze()\n\u001b[0;32m     15\u001b[0m train_preds \u001b[38;5;241m=\u001b[39m torch\u001b[38;5;241m.\u001b[39mround(torch\u001b[38;5;241m.\u001b[39msigmoid(train_logits))\n\u001b[1;32m---> 16\u001b[0m train_loss \u001b[38;5;241m=\u001b[39m \u001b[43mloss_fn\u001b[49m\u001b[43m(\u001b[49m\u001b[43mtrain_logits\u001b[49m\u001b[43m,\u001b[49m\u001b[43m \u001b[49m\u001b[43my_train_tensors\u001b[49m\u001b[43m)\u001b[49m\n\u001b[0;32m     17\u001b[0m train_acc \u001b[38;5;241m=\u001b[39m acc_fn(y_train_tensors, train_preds) \n\u001b[0;32m     19\u001b[0m optimizer\u001b[38;5;241m.\u001b[39mzero_grad()\n",
      "File \u001b[1;32mc:\\Users\\harri\\anaconda3\\envs\\myenv\\lib\\site-packages\\torch\\nn\\modules\\module.py:1511\u001b[0m, in \u001b[0;36mModule._wrapped_call_impl\u001b[1;34m(self, *args, **kwargs)\u001b[0m\n\u001b[0;32m   1509\u001b[0m     \u001b[38;5;28;01mreturn\u001b[39;00m \u001b[38;5;28mself\u001b[39m\u001b[38;5;241m.\u001b[39m_compiled_call_impl(\u001b[38;5;241m*\u001b[39margs, \u001b[38;5;241m*\u001b[39m\u001b[38;5;241m*\u001b[39mkwargs)  \u001b[38;5;66;03m# type: ignore[misc]\u001b[39;00m\n\u001b[0;32m   1510\u001b[0m \u001b[38;5;28;01melse\u001b[39;00m:\n\u001b[1;32m-> 1511\u001b[0m     \u001b[38;5;28;01mreturn\u001b[39;00m \u001b[38;5;28;43mself\u001b[39;49m\u001b[38;5;241;43m.\u001b[39;49m\u001b[43m_call_impl\u001b[49m\u001b[43m(\u001b[49m\u001b[38;5;241;43m*\u001b[39;49m\u001b[43margs\u001b[49m\u001b[43m,\u001b[49m\u001b[43m \u001b[49m\u001b[38;5;241;43m*\u001b[39;49m\u001b[38;5;241;43m*\u001b[39;49m\u001b[43mkwargs\u001b[49m\u001b[43m)\u001b[49m\n",
      "File \u001b[1;32mc:\\Users\\harri\\anaconda3\\envs\\myenv\\lib\\site-packages\\torch\\nn\\modules\\module.py:1520\u001b[0m, in \u001b[0;36mModule._call_impl\u001b[1;34m(self, *args, **kwargs)\u001b[0m\n\u001b[0;32m   1515\u001b[0m \u001b[38;5;66;03m# If we don't have any hooks, we want to skip the rest of the logic in\u001b[39;00m\n\u001b[0;32m   1516\u001b[0m \u001b[38;5;66;03m# this function, and just call forward.\u001b[39;00m\n\u001b[0;32m   1517\u001b[0m \u001b[38;5;28;01mif\u001b[39;00m \u001b[38;5;129;01mnot\u001b[39;00m (\u001b[38;5;28mself\u001b[39m\u001b[38;5;241m.\u001b[39m_backward_hooks \u001b[38;5;129;01mor\u001b[39;00m \u001b[38;5;28mself\u001b[39m\u001b[38;5;241m.\u001b[39m_backward_pre_hooks \u001b[38;5;129;01mor\u001b[39;00m \u001b[38;5;28mself\u001b[39m\u001b[38;5;241m.\u001b[39m_forward_hooks \u001b[38;5;129;01mor\u001b[39;00m \u001b[38;5;28mself\u001b[39m\u001b[38;5;241m.\u001b[39m_forward_pre_hooks\n\u001b[0;32m   1518\u001b[0m         \u001b[38;5;129;01mor\u001b[39;00m _global_backward_pre_hooks \u001b[38;5;129;01mor\u001b[39;00m _global_backward_hooks\n\u001b[0;32m   1519\u001b[0m         \u001b[38;5;129;01mor\u001b[39;00m _global_forward_hooks \u001b[38;5;129;01mor\u001b[39;00m _global_forward_pre_hooks):\n\u001b[1;32m-> 1520\u001b[0m     \u001b[38;5;28;01mreturn\u001b[39;00m \u001b[43mforward_call\u001b[49m\u001b[43m(\u001b[49m\u001b[38;5;241;43m*\u001b[39;49m\u001b[43margs\u001b[49m\u001b[43m,\u001b[49m\u001b[43m \u001b[49m\u001b[38;5;241;43m*\u001b[39;49m\u001b[38;5;241;43m*\u001b[39;49m\u001b[43mkwargs\u001b[49m\u001b[43m)\u001b[49m\n\u001b[0;32m   1522\u001b[0m \u001b[38;5;28;01mtry\u001b[39;00m:\n\u001b[0;32m   1523\u001b[0m     result \u001b[38;5;241m=\u001b[39m \u001b[38;5;28;01mNone\u001b[39;00m\n",
      "File \u001b[1;32mc:\\Users\\harri\\anaconda3\\envs\\myenv\\lib\\site-packages\\torch\\nn\\modules\\loss.py:725\u001b[0m, in \u001b[0;36mBCEWithLogitsLoss.forward\u001b[1;34m(self, input, target)\u001b[0m\n\u001b[0;32m    724\u001b[0m \u001b[38;5;28;01mdef\u001b[39;00m \u001b[38;5;21mforward\u001b[39m(\u001b[38;5;28mself\u001b[39m, \u001b[38;5;28minput\u001b[39m: Tensor, target: Tensor) \u001b[38;5;241m-\u001b[39m\u001b[38;5;241m>\u001b[39m Tensor:\n\u001b[1;32m--> 725\u001b[0m     \u001b[38;5;28;01mreturn\u001b[39;00m \u001b[43mF\u001b[49m\u001b[38;5;241;43m.\u001b[39;49m\u001b[43mbinary_cross_entropy_with_logits\u001b[49m\u001b[43m(\u001b[49m\u001b[38;5;28;43minput\u001b[39;49m\u001b[43m,\u001b[49m\u001b[43m \u001b[49m\u001b[43mtarget\u001b[49m\u001b[43m,\u001b[49m\n\u001b[0;32m    726\u001b[0m \u001b[43m                                              \u001b[49m\u001b[38;5;28;43mself\u001b[39;49m\u001b[38;5;241;43m.\u001b[39;49m\u001b[43mweight\u001b[49m\u001b[43m,\u001b[49m\n\u001b[0;32m    727\u001b[0m \u001b[43m                                              \u001b[49m\u001b[43mpos_weight\u001b[49m\u001b[38;5;241;43m=\u001b[39;49m\u001b[38;5;28;43mself\u001b[39;49m\u001b[38;5;241;43m.\u001b[39;49m\u001b[43mpos_weight\u001b[49m\u001b[43m,\u001b[49m\n\u001b[0;32m    728\u001b[0m \u001b[43m                                              \u001b[49m\u001b[43mreduction\u001b[49m\u001b[38;5;241;43m=\u001b[39;49m\u001b[38;5;28;43mself\u001b[39;49m\u001b[38;5;241;43m.\u001b[39;49m\u001b[43mreduction\u001b[49m\u001b[43m)\u001b[49m\n",
      "File \u001b[1;32mc:\\Users\\harri\\anaconda3\\envs\\myenv\\lib\\site-packages\\torch\\nn\\functional.py:3197\u001b[0m, in \u001b[0;36mbinary_cross_entropy_with_logits\u001b[1;34m(input, target, weight, size_average, reduce, reduction, pos_weight)\u001b[0m\n\u001b[0;32m   3194\u001b[0m     reduction_enum \u001b[38;5;241m=\u001b[39m _Reduction\u001b[38;5;241m.\u001b[39mget_enum(reduction)\n\u001b[0;32m   3196\u001b[0m \u001b[38;5;28;01mif\u001b[39;00m \u001b[38;5;129;01mnot\u001b[39;00m (target\u001b[38;5;241m.\u001b[39msize() \u001b[38;5;241m==\u001b[39m \u001b[38;5;28minput\u001b[39m\u001b[38;5;241m.\u001b[39msize()):\n\u001b[1;32m-> 3197\u001b[0m     \u001b[38;5;28;01mraise\u001b[39;00m \u001b[38;5;167;01mValueError\u001b[39;00m(\u001b[38;5;124mf\u001b[39m\u001b[38;5;124m\"\u001b[39m\u001b[38;5;124mTarget size (\u001b[39m\u001b[38;5;132;01m{\u001b[39;00mtarget\u001b[38;5;241m.\u001b[39msize()\u001b[38;5;132;01m}\u001b[39;00m\u001b[38;5;124m) must be the same as input size (\u001b[39m\u001b[38;5;132;01m{\u001b[39;00m\u001b[38;5;28minput\u001b[39m\u001b[38;5;241m.\u001b[39msize()\u001b[38;5;132;01m}\u001b[39;00m\u001b[38;5;124m)\u001b[39m\u001b[38;5;124m\"\u001b[39m)\n\u001b[0;32m   3199\u001b[0m \u001b[38;5;28;01mreturn\u001b[39;00m torch\u001b[38;5;241m.\u001b[39mbinary_cross_entropy_with_logits(\u001b[38;5;28minput\u001b[39m, target, weight, pos_weight, reduction_enum)\n",
      "\u001b[1;31mValueError\u001b[0m: Target size (torch.Size([156])) must be the same as input size (torch.Size([156, 2]))"
     ]
    }
   ],
   "source": [
    "#Training and Testing Loop\n",
    "epochs = 5\n",
    "\n",
    "X_test_tensors = X_test_tensors.to(device)\n",
    "X_train_tensors = X_train_tensors.to(device)\n",
    "y_train_tensors = y_train_tensors.to(device)\n",
    "y_test_tensors = y_test_tensors.to(device)\n",
    "\n",
    "for epoch in range(epochs):\n",
    "    model_1.train()\n",
    "    train_logits = model_1(X_train_tensors).squeeze()\n",
    "\n",
    "\n",
    "\n",
    "    train_preds = torch.round(torch.sigmoid(train_logits))\n",
    "    train_loss = loss_fn(train_logits, y_train_tensors)\n",
    "    train_acc = acc_fn(y_train_tensors, train_preds) \n",
    "    \n",
    "    optimizer.zero_grad()\n",
    "    train_loss.backward()\n",
    "    optimizer.step()\n",
    "\n",
    "    model_1.eval()\n",
    "    with torch.inference_mode():\n",
    "        test_logits = model_1(X_test_tensors).squeeze()\n",
    "        test_pred = torch.round(torch.sigmoid(test_logits))\n",
    "\n",
    "\n",
    "        test_loss = loss_fn(test_pred, y_test)\n",
    "        test_acc = acc_fn(y_test_tensors, test_pred) \n",
    "\n",
    "    print(f\"Epoch: {epoch} | Loss: {train_loss: .4f}, Acc: {train_acc:.2f}%) | Test Loss: {test_loss: .4f}, Test Acc: {test_acc:.2f}%\")\n",
    "\n",
    "\n",
    "# ok"
   ]
  },
  {
   "cell_type": "code",
   "execution_count": 122,
   "metadata": {},
   "outputs": [
    {
     "data": {
      "text/plain": [
       "tensor([ 92.0247, -51.2207, -51.8405, -25.6365, -30.8861,  58.2191,  51.7870,\n",
       "          7.4082,  38.6237, -16.0134,  31.4880, -20.0420, -71.9764, -15.3566,\n",
       "        -21.3447, -28.9662, -94.8672, -46.4131,  19.3436, -33.0505,  52.8601,\n",
       "        122.6866], device='cuda:0', grad_fn=<SelectBackward0>)"
      ]
     },
     "execution_count": 122,
     "metadata": {},
     "output_type": "execute_result"
    }
   ],
   "source": [
    "preds = model_1(X_train_tensors)\n",
    "\n",
    "preds[0]"
   ]
  }
 ],
 "metadata": {
  "kernelspec": {
   "display_name": "Python 3",
   "language": "python",
   "name": "python3"
  },
  "language_info": {
   "codemirror_mode": {
    "name": "ipython",
    "version": 3
   },
   "file_extension": ".py",
   "mimetype": "text/x-python",
   "name": "python",
   "nbconvert_exporter": "python",
   "pygments_lexer": "ipython3",
   "version": "3.8.19"
  }
 },
 "nbformat": 4,
 "nbformat_minor": 2
}
