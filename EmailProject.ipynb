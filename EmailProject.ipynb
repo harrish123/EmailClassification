{
 "cells": [
  {
   "cell_type": "code",
   "execution_count": 1,
   "metadata": {},
   "outputs": [
    {
     "data": {
      "text/plain": [
       "'cuda'"
      ]
     },
     "execution_count": 1,
     "metadata": {},
     "output_type": "execute_result"
    }
   ],
   "source": [
    "import torch\n",
    "torch.__version__\n",
    "torch.cuda.is_available()\n",
    "\n",
    "device = 'cuda' if torch.cuda.is_available() else 'cpu'\n",
    "device"
   ]
  },
  {
   "cell_type": "code",
   "execution_count": 2,
   "metadata": {},
   "outputs": [],
   "source": [
    "def read_new_email(file_path):\n",
    "    with open(file_path, 'r', encoding='utf-8') as file:\n",
    "        text = file.read()\n",
    "    \n",
    "    parts = text.split('\"')  \n",
    "    \n",
    "    subject = parts[1].strip()\n",
    "    body = parts[3].strip()\n",
    "    label = parts[5].strip()\n",
    "    \n",
    "    new_email = {'Subject':subject, 'Body':body, 'Label':label}\n",
    "    return new_email"
   ]
  },
  {
   "cell_type": "code",
   "execution_count": 3,
   "metadata": {},
   "outputs": [
    {
     "name": "stdout",
     "output_type": "stream",
     "text": [
      "150\n"
     ]
    }
   ],
   "source": [
    "confirmation_emails = []\n",
    "\n",
    "for i in range(1, 251):\n",
    "    file_path = f\"Data/confirmation/conf{i}.txt\"\n",
    "    new_email = read_new_email(file_path)\n",
    "    confirmation_emails.append(new_email)\n",
    "\n",
    "print(len(confirmation_emails))"
   ]
  },
  {
   "cell_type": "code",
   "execution_count": 4,
   "metadata": {},
   "outputs": [
    {
     "name": "stdout",
     "output_type": "stream",
     "text": [
      "152\n"
     ]
    }
   ],
   "source": [
    "rejection_emails = []\n",
    "\n",
    "for i in range(1, 251):\n",
    "    file_path = f\"Data/rejections/rejection{i}.txt\"\n",
    "    new_email = read_new_email(file_path)\n",
    "    rejection_emails.append(new_email)\n",
    "\n",
    "print(len(rejection_emails))"
   ]
  },
  {
   "cell_type": "code",
   "execution_count": 5,
   "metadata": {},
   "outputs": [
    {
     "data": {
      "text/plain": [
       "'thanks for your application to spotify! dear applicant, we just got your application for the 2024 summer internship, engineering (new york city) role! even though this is just an automated confirmation email, you should know that we’re truly excited you want to join the band. we’ll get back to you as soon as we can. we get a huge amount of applications, and we look at them all to give everyone fair consideration – so it may take a few weeks (or sometimes months for really popular roles). in the meantime, you can listen to the playlist we’ll play in the office as we read your resume. want to sneak a backstage peek? follow life at spotify on linkedin, instagram, twitter, and youtube. learn more about our culture through our band manifesto, or listen to the greenroom and spoton! podcasts. still curious? check out our hr blog, podcasting website, and engineering blog! all the best, the spotify recruiting team'"
      ]
     },
     "execution_count": 5,
     "metadata": {},
     "output_type": "execute_result"
    }
   ],
   "source": [
    "for i in range(0, len(confirmation_emails)):\n",
    "    subject = confirmation_emails[i][\"Subject\"]\n",
    "    body = confirmation_emails[i][\"Body\"]\n",
    "    confirmation_emails[i] = f\"{subject} {body}\"\n",
    "\n",
    "confirmation_emails[0]"
   ]
  },
  {
   "cell_type": "code",
   "execution_count": 6,
   "metadata": {},
   "outputs": [
    {
     "data": {
      "text/plain": [
       "\"update on your skydio application - wireless software intern hi applicant, thank you for applying for the wireless software intern role at skydio! we know that there are lots of exciting companies out there, so we appreciate the time you took to apply to ours. after reviewing your application, we have unfortunately decided not to move forward at this time. while we greatly appreciate your interest in skydio, we ultimately decided to proceed with other candidates whose skills and experience align more closely with our needs for this specific role. if you submitted an application to other roles at skydio and haven't heard back, then your resume is still under review and we will be in touch soon with an update. our hiring priorities are constantly evolving, so we encourage you to keep an eye on our jobs page. if you see another role that seems like a good fit, please don't hesitate to apply. in the meantime, we'd like to thank you again for your interest and we wish you all the best in your job search. cheers, skydio talent team\""
      ]
     },
     "execution_count": 6,
     "metadata": {},
     "output_type": "execute_result"
    }
   ],
   "source": [
    "for i in range(0, len(rejection_emails)):\n",
    "    subject = rejection_emails[i][\"Subject\"]\n",
    "    body = rejection_emails[i][\"Body\"]\n",
    "    rejection_emails[i] = f\"{subject} {body}\"\n",
    "\n",
    "rejection_emails[0]"
   ]
  },
  {
   "cell_type": "code",
   "execution_count": 14,
   "metadata": {},
   "outputs": [],
   "source": [
    "import nltk \n",
    "from nltk.corpus import stopwords\n",
    "from nltk.tokenize import word_tokenize\n",
    "from nltk.stem import WordNetLemmatizer\n",
    "import string\n",
    "\n",
    "\n",
    "def preprocess_text(text):\n",
    "    # Tokenize the text\n",
    "    tokens = word_tokenize(text)\n",
    "    \n",
    "    # Remove punctuation\n",
    "    tokens = [word for word in tokens if word not in string.punctuation]\n",
    "    \n",
    "    # Convert to lowercase\n",
    "    tokens = [word.lower() for word in tokens]\n",
    "    \n",
    "    # Remove stop words\n",
    "    stop_words = set(stopwords.words('english'))\n",
    "    tokens = [word for word in tokens if word not in stop_words]\n",
    "    \n",
    "    # Lemmatize tokens\n",
    "    lemmatizer = WordNetLemmatizer()\n",
    "    tokens = [lemmatizer.lemmatize(word) for word in tokens]\n",
    "    \n",
    "    # Join tokens back into a string\n",
    "    preprocessed_text = ' '.join(tokens)\n",
    "    \n",
    "    return preprocessed_text\n",
    "\n"
   ]
  },
  {
   "cell_type": "code",
   "execution_count": 15,
   "metadata": {},
   "outputs": [],
   "source": [
    "for i in range(0, len(confirmation_emails)):\n",
    "    new_text = preprocess_text(confirmation_emails[i])\n",
    "    confirmation_emails[i] = new_text\n",
    "\n",
    "for i in range(0, len(rejection_emails)):\n",
    "    new_text = preprocess_text(rejection_emails[i])\n",
    "    rejection_emails[i] = new_text\n",
    "\n"
   ]
  },
  {
   "cell_type": "code",
   "execution_count": 16,
   "metadata": {},
   "outputs": [],
   "source": [
    "confirmation_labels = [1] * len(confirmation_emails)\n",
    "rejection_labels = [0] * len(rejection_emails)"
   ]
  },
  {
   "cell_type": "code",
   "execution_count": 17,
   "metadata": {},
   "outputs": [],
   "source": [
    "emails = confirmation_emails + rejection_emails\n",
    "labels = confirmation_labels + rejection_labels"
   ]
  },
  {
   "cell_type": "code",
   "execution_count": 250,
   "metadata": {},
   "outputs": [],
   "source": [
    "import numpy as np\n",
    "from sklearn.feature_extraction.text import TfidfVectorizer\n",
    "\n",
    "# Convert text data to TF-IDF features\n",
    "vectorizer = TfidfVectorizer(stop_words='english', max_features=100)  \n",
    "\n",
    "X = vectorizer.fit_transform(emails).toarray()\n",
    "X = np.pad(X, ((0, 0), (0, 100 - X.shape[1])), mode='constant')\n",
    "y = np.array(labels)"
   ]
  },
  {
   "cell_type": "code",
   "execution_count": 251,
   "metadata": {},
   "outputs": [],
   "source": [
    "import torch\n",
    "from sklearn.model_selection import train_test_split\n",
    "\n",
    "# Split the data into training and test sets\n",
    "X_train, X_test, y_train, y_test = train_test_split(X, y, test_size=0.2, random_state=42)\n",
    "\n",
    "# Convert to PyTorch tensors\n",
    "X_train_tensors = torch.tensor(X_train, dtype=torch.float32)\n",
    "X_test_tensors = torch.tensor(X_test, dtype=torch.float32)\n",
    "y_train_tensors = torch.tensor(y_train, dtype=torch.float32)\n",
    "y_test_tensors = torch.tensor(y_test, dtype=torch.float32)"
   ]
  },
  {
   "cell_type": "code",
   "execution_count": 252,
   "metadata": {},
   "outputs": [],
   "source": [
    "#Accuracy Function\n",
    "\n",
    "def acc_fn(y_true, y_pred):\n",
    "    y_pred = torch.round(y_pred)\n",
    "    correct = torch.eq(y_true, y_pred).sum().item()\n",
    "    accuracy = (correct/len(y_pred)) * 100\n",
    "    return accuracy"
   ]
  },
  {
   "cell_type": "code",
   "execution_count": 301,
   "metadata": {},
   "outputs": [],
   "source": [
    "from torch import nn\n",
    "\n",
    "# class EmailModel(nn.Module):\n",
    "#     def __init__(self, input_size):\n",
    "#         super(EmailModel, self).__init__()\n",
    "#         self.fc1 = nn.Linear(input_size, 512)\n",
    "#         self.fc2 = nn.Linear(512, 128)\n",
    "#         self.fc3 = nn.Linear(128, 64)\n",
    "#         self.fc4 = nn.Linear(64, 1)\n",
    "#         self.relu = nn.ReLU()\n",
    "#         self.sigmoid = nn.Sigmoid()\n",
    "    \n",
    "#     def forward(self, x):\n",
    "#         x = self.relu(self.fc1(x))\n",
    "#         x = self.relu(self.fc2(x))\n",
    "#         x = self.relu(self.fc3(x))\n",
    "    \n",
    "\n",
    "#         x = self.fc4(x)\n",
    "#         x = self.sigmoid(x)\n",
    "#         return x\n",
    "\n",
    "# input_size = 338\n",
    "# model_1 = EmailModel(input_size).to(device)\n",
    "# model_1\n",
    "\n",
    "class EmailModel(nn.Module):\n",
    "    def __init__(self, input_size):\n",
    "        super(EmailModel, self).__init__()\n",
    "        self.fc1 = nn.Linear(input_size, 512)\n",
    "        self.fc2 = nn.Linear(512, 256)\n",
    "        self.fc3 = nn.Linear(256, 128)\n",
    "        self.fc4 = nn.Linear(128, 64)\n",
    "        self.fc5 = nn.Linear(64, 1)\n",
    "        self.leaky_relu = nn.LeakyReLU()\n",
    "        self.dropout = nn.Dropout(0.5)\n",
    "        self.layer_norm1 = nn.LayerNorm(512)\n",
    "        self.layer_norm2 = nn.LayerNorm(256)\n",
    "        self.layer_norm3 = nn.LayerNorm(128)\n",
    "        self.layer_norm4 = nn.LayerNorm(64)\n",
    "        self.sigmoid = nn.Sigmoid()\n",
    "    \n",
    "    def forward(self, x):\n",
    "        x = self.leaky_relu(self.layer_norm1(self.fc1(x)))\n",
    "        x = self.dropout(x)\n",
    "        x = self.leaky_relu(self.layer_norm2(self.fc2(x)))\n",
    "        x = self.dropout(x)\n",
    "        x = self.leaky_relu(self.layer_norm3(self.fc3(x)))\n",
    "        x = self.dropout(x)\n",
    "        x = self.leaky_relu(self.layer_norm4(self.fc4(x)))\n",
    "        x = self.fc5(x)\n",
    "        x = self.sigmoid(x)\n",
    "        return x\n",
    "\n"
   ]
  },
  {
   "cell_type": "code",
   "execution_count": 355,
   "metadata": {},
   "outputs": [
    {
     "name": "stdout",
     "output_type": "stream",
     "text": [
      "Epoch: 1 | Train Loss: 0.6992, Train Acc: 53.11% | Test Loss: 0.8037, Test Acc: 50.82%\n",
      "Epoch: 2 | Train Loss: 0.7743, Train Acc: 49.38% | Test Loss: 1.0488, Test Acc: 49.18%\n",
      "Epoch: 3 | Train Loss: 0.9257, Train Acc: 50.62% | Test Loss: 0.7805, Test Acc: 49.18%\n",
      "Epoch: 4 | Train Loss: 0.7538, Train Acc: 50.62% | Test Loss: 0.6153, Test Acc: 72.13%\n",
      "Epoch: 5 | Train Loss: 0.6268, Train Acc: 72.20% | Test Loss: 0.5918, Test Acc: 70.49%\n",
      "Epoch: 6 | Train Loss: 0.6151, Train Acc: 60.58% | Test Loss: 0.5738, Test Acc: 70.49%\n",
      "Epoch: 7 | Train Loss: 0.5931, Train Acc: 58.09% | Test Loss: 0.4968, Test Acc: 81.97%\n",
      "Epoch: 8 | Train Loss: 0.5316, Train Acc: 76.76% | Test Loss: 0.4137, Test Acc: 96.72%\n",
      "Epoch: 9 | Train Loss: 0.4577, Train Acc: 92.12% | Test Loss: 0.3576, Test Acc: 95.08%\n",
      "Epoch: 10 | Train Loss: 0.4054, Train Acc: 90.04% | Test Loss: 0.2758, Test Acc: 98.36%\n",
      "Epoch: 11 | Train Loss: 0.3368, Train Acc: 93.36% | Test Loss: 0.2346, Test Acc: 98.36%\n",
      "Epoch: 12 | Train Loss: 0.2872, Train Acc: 94.61% | Test Loss: 0.2129, Test Acc: 96.72%\n",
      "Epoch: 13 | Train Loss: 0.2403, Train Acc: 95.85% | Test Loss: 0.1688, Test Acc: 98.36%\n",
      "Epoch: 14 | Train Loss: 0.1884, Train Acc: 97.10% | Test Loss: 0.1699, Test Acc: 96.72%\n",
      "Epoch: 15 | Train Loss: 0.1987, Train Acc: 95.44% | Test Loss: 0.1560, Test Acc: 96.72%\n",
      "Epoch: 16 | Train Loss: 0.1750, Train Acc: 96.27% | Test Loss: 0.1119, Test Acc: 98.36%\n",
      "Epoch: 17 | Train Loss: 0.1278, Train Acc: 97.93% | Test Loss: 0.1499, Test Acc: 96.72%\n",
      "Epoch: 18 | Train Loss: 0.1237, Train Acc: 97.10% | Test Loss: 0.1025, Test Acc: 98.36%\n",
      "Epoch: 19 | Train Loss: 0.1101, Train Acc: 97.51% | Test Loss: 0.0883, Test Acc: 98.36%\n",
      "Epoch: 20 | Train Loss: 0.1014, Train Acc: 97.93% | Test Loss: 0.0836, Test Acc: 98.36%\n",
      "Epoch: 21 | Train Loss: 0.1054, Train Acc: 97.51% | Test Loss: 0.0813, Test Acc: 98.36%\n",
      "Epoch: 22 | Train Loss: 0.0888, Train Acc: 97.93% | Test Loss: 0.0884, Test Acc: 98.36%\n",
      "Epoch: 23 | Train Loss: 0.0957, Train Acc: 97.93% | Test Loss: 0.0910, Test Acc: 96.72%\n",
      "Early stopping at epoch 24\n"
     ]
    }
   ],
   "source": [
    "from torch import nn, optim\n",
    "\n",
    "train_losses = []\n",
    "test_losses = []\n",
    "train_accuracies = []\n",
    "test_accuracies = []\n",
    "\n",
    "patience = 5\n",
    "min_delta = 0.01\n",
    "best_loss = float('inf')\n",
    "epochs_without_improvement = 0\n",
    "\n",
    "\n",
    "# Define the model\n",
    "input_size = X_train_tensors.shape[1]\n",
    "model = EmailModel(input_size).to(device)\n",
    "X_test_tensors = X_test_tensors.to(device)\n",
    "X_train_tensors = X_train_tensors.to(device)\n",
    "y_train_tensors = y_train_tensors.to(device)\n",
    "y_test_tensors = y_test_tensors.to(device)\n",
    "\n",
    "# Loss function and optimizer\n",
    "loss_fn = nn.BCELoss()\n",
    "optimizer = optim.AdamW(model.parameters(), lr=0.01)\n",
    "\n",
    "# Training loop\n",
    "epochs = 30\n",
    "for epoch in range(epochs):\n",
    "    model.train()\n",
    "\n",
    "    # Forward pass\n",
    "    train_preds = model(X_train_tensors).squeeze()\n",
    "    train_loss = loss_fn(train_preds, y_train_tensors)\n",
    "    train_acc = acc_fn(y_train_tensors, train_preds)\n",
    "\n",
    "    # Backward pass and optimization\n",
    "    optimizer.zero_grad()\n",
    "    train_loss.backward()\n",
    "    optimizer.step()\n",
    "\n",
    "    # Evaluation\n",
    "    model.eval()\n",
    "    with torch.inference_mode():\n",
    "        test_preds = model(X_test_tensors).squeeze()\n",
    "        test_loss = loss_fn(test_preds, y_test_tensors)\n",
    "        test_acc = acc_fn(y_test_tensors, test_preds)\n",
    "\n",
    "    train_losses.append(train_loss.item())\n",
    "    test_losses.append(test_loss.item())\n",
    "    train_accuracies.append(train_acc)\n",
    "    test_accuracies.append(test_acc)\n",
    "\n",
    "    # Check for early stopping\n",
    "    if test_loss < best_loss - min_delta:\n",
    "        best_loss = test_loss\n",
    "        epochs_without_improvement = 0\n",
    "    else:\n",
    "        epochs_without_improvement += 1\n",
    "\n",
    "    if epochs_without_improvement >= patience:\n",
    "        print(f\"Early stopping at epoch {epoch+1}\")\n",
    "        break\n",
    "        \n",
    "    print(f\"Epoch: {epoch+1} | Train Loss: {train_loss:.4f}, Train Acc: {train_acc:.2f}% | Test Loss: {test_loss:.4f}, Test Acc: {test_acc:.2f}%\")"
   ]
  },
  {
   "cell_type": "code",
   "execution_count": 356,
   "metadata": {},
   "outputs": [
    {
     "data": {
      "image/png": "[encoded data removed]",
      "text/plain": [
       "<Figure size 1200x600 with 2 Axes>"
      ]
     },
     "metadata": {},
     "output_type": "display_data"
    }
   ],
   "source": [
    "import matplotlib.pyplot as plt\n",
    "\n",
    "plt.figure(figsize=(12, 6))\n",
    "\n",
    "# Plot the loss values\n",
    "plt.subplot(1, 2, 1)\n",
    "plt.plot(train_losses, label='Training Loss')\n",
    "plt.plot(test_losses, label='Test Loss')\n",
    "plt.xlabel('Epoch')\n",
    "plt.ylabel('Loss')\n",
    "plt.title('Loss Curves')\n",
    "plt.legend()\n",
    "plt.grid(True)\n",
    "\n",
    "# Plot the accuracy values\n",
    "plt.subplot(1, 2, 2)\n",
    "plt.plot(train_accuracies, label='Training Accuracy')\n",
    "plt.plot(test_accuracies, label='Test Accuracy')\n",
    "plt.xlabel('Epoch')\n",
    "plt.ylabel('Accuracy (%)')\n",
    "plt.title('Accuracy Curves')\n",
    "plt.legend()\n",
    "plt.grid(True)\n",
    "\n",
    "plt.tight_layout()\n",
    "plt.show()"
   ]
  },
  {
   "cell_type": "code",
   "execution_count": 357,
   "metadata": {},
   "outputs": [],
   "source": [
    "torch.save(model.state_dict(), \"EmailModel_params9.pth\")"
   ]
  },
  {
   "cell_type": "code",
   "execution_count": 359,
   "metadata": {},
   "outputs": [],
   "source": [
    "def read_test_email(file_path):\n",
    "    with open(file_path, 'r', encoding='utf-8') as file:\n",
    "        text = file.read()\n",
    "    \n",
    "    parts = text.split('\"')  \n",
    "    \n",
    "    subject = parts[1].strip()\n",
    "    body = parts[3].strip()\n",
    "    \n",
    "    new_email = {'Subject':subject, 'Body':body}\n",
    "    return new_email\n",
    "\n",
    "file_path = f\"Data/new_emails/new_email{1}.txt\"\n",
    "\n",
    "\n"
   ]
  },
  {
   "cell_type": "code",
   "execution_count": 360,
   "metadata": {},
   "outputs": [
    {
     "name": "stdout",
     "output_type": "stream",
     "text": [
      "time appreciated givelify dear name appreciate taking time submit application role software engineering intern givelify time decided pursue candidate current opening recognize effort preparing resume application position flattered chose invest time energy givelify thank givelify believe greatness everyone work tirelessly create work environment allows greatness blossom position work encourage watch career page opportunity may interest thank wish absolute best luck search endeavor joy givelify 's talent acquisition team\n"
     ]
    }
   ],
   "source": [
    "emails_total = []\n",
    "\n",
    "for i in range(1,5):\n",
    "    file_path = f\"Data/new_emails/new_email{i}.txt\"\n",
    "    new_email = read_test_email(file_path)\n",
    "    subject = new_email[\"Subject\"]\n",
    "    body = new_email[\"Body\"]\n",
    "    new_text = preprocess_text(f\"{subject} {body}\")\n",
    "    emails_total.append(new_text)\n",
    "\n",
    "print(emails_total[0])\n",
    "\n"
   ]
  },
  {
   "cell_type": "code",
   "execution_count": 361,
   "metadata": {},
   "outputs": [
    {
     "name": "stdout",
     "output_type": "stream",
     "text": [
      "tensor([[0.1162, 0.1162, 0.0000, 0.1162, 0.0000, 0.0000, 0.0000, 0.1213, 0.0000,\n",
      "         0.1162, 0.1162, 0.0000, 0.0000, 0.1162, 0.0742, 0.1162, 0.0000, 0.1162,\n",
      "         0.0916, 0.1162, 0.0000, 0.0000, 0.0742, 0.0000, 0.0000, 0.0000, 0.0000,\n",
      "         0.0000, 0.0742, 0.1162, 0.1162, 0.0000, 0.0000, 0.0000, 0.0000, 0.1162,\n",
      "         0.0000, 0.5810, 0.0000, 0.2324, 0.0000, 0.0000, 0.0000, 0.0000, 0.0000,\n",
      "         0.0606, 0.0000, 0.0000, 0.0000, 0.0000, 0.0000, 0.0000, 0.0000, 0.0000,\n",
      "         0.0000, 0.0742, 0.0916, 0.0000, 0.1213, 0.1162, 0.0000, 0.0000, 0.0000,\n",
      "         0.1162, 0.0000, 0.0000, 0.0000, 0.0000, 0.1162, 0.0000, 0.0000, 0.0916,\n",
      "         0.0000, 0.0606, 0.1162, 0.0000, 0.0000, 0.0000, 0.0000, 0.0742, 0.0000,\n",
      "         0.1162, 0.1162, 0.0742, 0.0742, 0.1213, 0.0000, 0.3664, 0.1162, 0.0000,\n",
      "         0.0000, 0.0000, 0.0000, 0.0000, 0.0000, 0.1162, 0.1162, 0.0000, 0.2748,\n",
      "         0.0000],\n",
      "        [0.0000, 0.0000, 0.0816, 0.0000, 0.0000, 0.0000, 0.1035, 0.1080, 0.0000,\n",
      "         0.0000, 0.0000, 0.2070, 0.0000, 0.0000, 0.0661, 0.0000, 0.1035, 0.0000,\n",
      "         0.0000, 0.0000, 0.0816, 0.0000, 0.0661, 0.1035, 0.0000, 0.1035, 0.2070,\n",
      "         0.1035, 0.0661, 0.0000, 0.0000, 0.1035, 0.1035, 0.0816, 0.0000, 0.0000,\n",
      "         0.0816, 0.0000, 0.0000, 0.0000, 0.0000, 0.1035, 0.1035, 0.2070, 0.2070,\n",
      "         0.0540, 0.5176, 0.0000, 0.0000, 0.2070, 0.2070, 0.0000, 0.3106, 0.0000,\n",
      "         0.0000, 0.0661, 0.0000, 0.0000, 0.0540, 0.0000, 0.1035, 0.1035, 0.1035,\n",
      "         0.0000, 0.0000, 0.0000, 0.0661, 0.2070, 0.0000, 0.1632, 0.1035, 0.0816,\n",
      "         0.0000, 0.0540, 0.0000, 0.0000, 0.0000, 0.0000, 0.0816, 0.0661, 0.0000,\n",
      "         0.0000, 0.0000, 0.0661, 0.0000, 0.1080, 0.0000, 0.0816, 0.0000, 0.0000,\n",
      "         0.0000, 0.1035, 0.2070, 0.0000, 0.0000, 0.0000, 0.0000, 0.0000, 0.0000,\n",
      "         0.0816],\n",
      "        [0.0000, 0.0000, 0.1221, 0.0000, 0.0000, 0.0000, 0.0000, 0.2424, 0.0000,\n",
      "         0.0000, 0.0000, 0.0000, 0.1548, 0.0000, 0.0000, 0.0000, 0.0000, 0.0000,\n",
      "         0.1221, 0.0000, 0.1221, 0.1548, 0.0000, 0.0000, 0.1548, 0.0000, 0.0000,\n",
      "         0.0000, 0.0988, 0.0000, 0.0000, 0.0000, 0.0000, 0.1221, 0.1548, 0.0000,\n",
      "         0.1221, 0.0000, 0.0000, 0.0000, 0.1221, 0.0000, 0.0000, 0.0000, 0.0000,\n",
      "         0.0808, 0.0000, 0.1221, 0.2442, 0.0000, 0.0000, 0.1221, 0.0000, 0.1221,\n",
      "         0.4645, 0.0988, 0.1221, 0.1548, 0.0808, 0.0000, 0.0000, 0.0000, 0.0000,\n",
      "         0.0000, 0.1221, 0.0000, 0.0988, 0.0000, 0.0000, 0.1221, 0.0000, 0.0000,\n",
      "         0.1221, 0.0808, 0.0000, 0.1548, 0.1548, 0.1548, 0.1221, 0.0988, 0.0000,\n",
      "         0.0000, 0.0000, 0.0000, 0.2965, 0.1616, 0.0000, 0.0000, 0.0000, 0.0000,\n",
      "         0.1548, 0.0000, 0.0000, 0.0000, 0.1221, 0.0000, 0.0000, 0.1548, 0.1221,\n",
      "         0.1221],\n",
      "        [0.0000, 0.0000, 0.0000, 0.0000, 0.1864, 0.1864, 0.0000, 0.2919, 0.1864,\n",
      "         0.0000, 0.0000, 0.0000, 0.0000, 0.0000, 0.1190, 0.0000, 0.0000, 0.0000,\n",
      "         0.0000, 0.0000, 0.0000, 0.0000, 0.1190, 0.0000, 0.0000, 0.0000, 0.0000,\n",
      "         0.0000, 0.0000, 0.0000, 0.0000, 0.0000, 0.0000, 0.0000, 0.0000, 0.0000,\n",
      "         0.0000, 0.0000, 0.1864, 0.0000, 0.1470, 0.0000, 0.0000, 0.0000, 0.0000,\n",
      "         0.0973, 0.0000, 0.1470, 0.1470, 0.0000, 0.0000, 0.1470, 0.0000, 0.1470,\n",
      "         0.0000, 0.0000, 0.0000, 0.0000, 0.0973, 0.0000, 0.0000, 0.0000, 0.0000,\n",
      "         0.0000, 0.1470, 0.1864, 0.1190, 0.0000, 0.0000, 0.0000, 0.0000, 0.0000,\n",
      "         0.1470, 0.0973, 0.0000, 0.0000, 0.0000, 0.0000, 0.0000, 0.0000, 0.5593,\n",
      "         0.0000, 0.0000, 0.1190, 0.2380, 0.0973, 0.1864, 0.0000, 0.0000, 0.1864,\n",
      "         0.0000, 0.0000, 0.0000, 0.1864, 0.1470, 0.0000, 0.0000, 0.0000, 0.0000,\n",
      "         0.0000]], device='cuda:0')\n"
     ]
    }
   ],
   "source": [
    "tfidf_matrix = vectorizer.fit_transform(emails_total)\n",
    "max_features = 100\n",
    "test_email_padded = np.pad(tfidf_matrix.toarray(), ((0, 0), (0, max_features - tfidf_matrix.shape[1])), mode='constant')\n",
    "\n",
    "test_email_tensor = torch.tensor(test_email_padded, dtype=torch.float32).to(device)\n",
    "print(test_email_tensor)\n",
    "\n",
    "# tfidf_matrix = vectorizer.fit_transform(emails_total)\n",
    "\n",
    "# test_email_tensor = torch.tensor(tfidf_matrix.toarray(), dtype=torch.float32).to(device)\n",
    "# print(test_email_tensor)\n"
   ]
  },
  {
   "cell_type": "code",
   "execution_count": 366,
   "metadata": {},
   "outputs": [
    {
     "name": "stdout",
     "output_type": "stream",
     "text": [
      "tensor([0.0832, 0.0196, 0.0196, 0.9953], device='cuda:0')\n"
     ]
    }
   ],
   "source": [
    "loaded_model = EmailModel(test_email_tensor.shape[1]).to(device)\n",
    "loaded_model.load_state_dict(torch.load(\"EmailModel_params7.pth\"))\n",
    "\n",
    "loaded_model.eval()\n",
    "with torch.inference_mode():\n",
    "    test_email_preds = loaded_model(test_email_tensor).squeeze()\n",
    "\n",
    "print(test_email_preds)\n"
   ]
  }
 ],
 "metadata": {
  "kernelspec": {
   "display_name": "Python 3",
   "language": "python",
   "name": "python3"
  },
  "language_info": {
   "codemirror_mode": {
    "name": "ipython",
    "version": 3
   },
   "file_extension": ".py",
   "mimetype": "text/x-python",
   "name": "python",
   "nbconvert_exporter": "python",
   "pygments_lexer": "ipython3",
   "version": "3.8.19"
  }
 },
 "nbformat": 4,
 "nbformat_minor": 2
}
