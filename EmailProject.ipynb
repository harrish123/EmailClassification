{
 "cells": [
  {
   "cell_type": "code",
   "execution_count": 62,
   "metadata": {},
   "outputs": [
    {
     "data": {
      "text/plain": [
       "'cuda'"
      ]
     },
     "execution_count": 62,
     "metadata": {},
     "output_type": "execute_result"
    }
   ],
   "source": [
    "import torch\n",
    "torch.__version__\n",
    "torch.cuda.is_available()\n",
    "\n",
    "device = 'cuda' if torch.cuda.is_available() else 'cpu'\n",
    "device"
   ]
  },
  {
   "cell_type": "code",
   "execution_count": 63,
   "metadata": {},
   "outputs": [],
   "source": [
    "def read_new_email(file_path):\n",
    "    with open(file_path, 'r', encoding='utf-8') as file:\n",
    "        text = file.read()\n",
    "    \n",
    "    parts = text.split('\"')  \n",
    "    \n",
    "    subject = parts[1].strip()\n",
    "    body = parts[3].strip()\n",
    "    label = parts[5].strip()\n",
    "    \n",
    "    new_email = {'Subject':subject, 'Body':body, 'Label':label}\n",
    "    return new_email"
   ]
  },
  {
   "cell_type": "code",
   "execution_count": 64,
   "metadata": {},
   "outputs": [
    {
     "name": "stdout",
     "output_type": "stream",
     "text": [
      "250\n"
     ]
    }
   ],
   "source": [
    "confirmation_emails = []\n",
    "\n",
    "for i in range(1, 251):\n",
    "    file_path = f\"Data/confirmation/conf{i}.txt\"\n",
    "    new_email = read_new_email(file_path)\n",
    "    confirmation_emails.append(new_email)\n",
    "\n",
    "print(len(confirmation_emails))"
   ]
  },
  {
   "cell_type": "code",
   "execution_count": 65,
   "metadata": {},
   "outputs": [
    {
     "name": "stdout",
     "output_type": "stream",
     "text": [
      "250\n"
     ]
    }
   ],
   "source": [
    "rejection_emails = []\n",
    "\n",
    "for i in range(1, 251):\n",
    "    file_path = f\"Data/rejections/rejection{i}.txt\"\n",
    "    new_email = read_new_email(file_path)\n",
    "    rejection_emails.append(new_email)\n",
    "\n",
    "print(len(rejection_emails))"
   ]
  },
  {
   "cell_type": "code",
   "execution_count": 66,
   "metadata": {},
   "outputs": [
    {
     "data": {
      "text/plain": [
       "'thanks for your application to spotify! dear applicant, we just got your application for the 2024 summer internship, engineering (new york city) role! even though this is just an automated confirmation email, you should know that we’re truly excited you want to join the band. we’ll get back to you as soon as we can. we get a huge amount of applications, and we look at them all to give everyone fair consideration – so it may take a few weeks (or sometimes months for really popular roles). in the meantime, you can listen to the playlist we’ll play in the office as we read your resume. want to sneak a backstage peek? follow life at spotify on linkedin, instagram, twitter, and youtube. learn more about our culture through our band manifesto, or listen to the greenroom and spoton! podcasts. still curious? check out our hr blog, podcasting website, and engineering blog! all the best, the spotify recruiting team'"
      ]
     },
     "execution_count": 66,
     "metadata": {},
     "output_type": "execute_result"
    }
   ],
   "source": [
    "for i in range(0, len(confirmation_emails)):\n",
    "    subject = confirmation_emails[i][\"Subject\"]\n",
    "    body = confirmation_emails[i][\"Body\"]\n",
    "    confirmation_emails[i] = f\"{subject} {body}\"\n",
    "\n",
    "confirmation_emails[0]"
   ]
  },
  {
   "cell_type": "code",
   "execution_count": 67,
   "metadata": {},
   "outputs": [
    {
     "data": {
      "text/plain": [
       "\"update on your skydio application - wireless software intern hi applicant, thank you for applying for the wireless software intern role at skydio! we know that there are lots of exciting companies out there, so we appreciate the time you took to apply to ours. after reviewing your application, we have unfortunately decided not to move forward at this time. while we greatly appreciate your interest in skydio, we ultimately decided to proceed with other candidates whose skills and experience align more closely with our needs for this specific role. if you submitted an application to other roles at skydio and haven't heard back, then your resume is still under review and we will be in touch soon with an update. our hiring priorities are constantly evolving, so we encourage you to keep an eye on our jobs page. if you see another role that seems like a good fit, please don't hesitate to apply. in the meantime, we'd like to thank you again for your interest and we wish you all the best in your job search. cheers, skydio talent team\""
      ]
     },
     "execution_count": 67,
     "metadata": {},
     "output_type": "execute_result"
    }
   ],
   "source": [
    "for i in range(0, len(rejection_emails)):\n",
    "    subject = rejection_emails[i][\"Subject\"]\n",
    "    body = rejection_emails[i][\"Body\"]\n",
    "    rejection_emails[i] = f\"{subject} {body}\"\n",
    "\n",
    "rejection_emails[0]"
   ]
  },
  {
   "cell_type": "code",
   "execution_count": 68,
   "metadata": {},
   "outputs": [],
   "source": [
    "import nltk \n",
    "from nltk.corpus import stopwords\n",
    "from nltk.tokenize import word_tokenize\n",
    "from nltk.stem import WordNetLemmatizer\n",
    "import string\n",
    "\n",
    "\n",
    "def preprocess_text(text):\n",
    "    # Tokenize the text\n",
    "    tokens = word_tokenize(text)\n",
    "    \n",
    "    # Remove punctuation\n",
    "    tokens = [word for word in tokens if word not in string.punctuation]\n",
    "    \n",
    "    # Convert to lowercase\n",
    "    tokens = [word.lower() for word in tokens]\n",
    "    \n",
    "    # Remove stop words\n",
    "    stop_words = set(stopwords.words('english'))\n",
    "    tokens = [word for word in tokens if word not in stop_words]\n",
    "    \n",
    "    # Lemmatize tokens\n",
    "    lemmatizer = WordNetLemmatizer()\n",
    "    tokens = [lemmatizer.lemmatize(word) for word in tokens]\n",
    "    \n",
    "    # Join tokens back into a string\n",
    "    preprocessed_text = ' '.join(tokens)\n",
    "    \n",
    "    return preprocessed_text\n",
    "\n"
   ]
  },
  {
   "cell_type": "code",
   "execution_count": 69,
   "metadata": {},
   "outputs": [],
   "source": [
    "for i in range(0, len(confirmation_emails)):\n",
    "    new_text = preprocess_text(confirmation_emails[i])\n",
    "    confirmation_emails[i] = new_text\n",
    "\n",
    "for i in range(0, len(rejection_emails)):\n",
    "    new_text = preprocess_text(rejection_emails[i])\n",
    "    rejection_emails[i] = new_text\n",
    "\n"
   ]
  },
  {
   "cell_type": "code",
   "execution_count": 70,
   "metadata": {},
   "outputs": [],
   "source": [
    "confirmation_labels = [1] * len(confirmation_emails)\n",
    "rejection_labels = [0] * len(rejection_emails)"
   ]
  },
  {
   "cell_type": "code",
   "execution_count": 71,
   "metadata": {},
   "outputs": [],
   "source": [
    "emails = confirmation_emails + rejection_emails\n",
    "labels = confirmation_labels + rejection_labels"
   ]
  },
  {
   "cell_type": "code",
   "execution_count": 72,
   "metadata": {},
   "outputs": [],
   "source": [
    "import numpy as np\n",
    "from sklearn.feature_extraction.text import TfidfVectorizer\n",
    "\n",
    "# Convert text data to TF-IDF features\n",
    "vectorizer = TfidfVectorizer(stop_words='english', max_features=100)  \n",
    "\n",
    "X = vectorizer.fit_transform(emails).toarray()\n",
    "X = np.pad(X, ((0, 0), (0, 100 - X.shape[1])), mode='constant')\n",
    "y = np.array(labels)"
   ]
  },
  {
   "cell_type": "code",
   "execution_count": 73,
   "metadata": {},
   "outputs": [],
   "source": [
    "import torch\n",
    "from sklearn.model_selection import train_test_split\n",
    "\n",
    "# Split the data into training and test sets\n",
    "X_train, X_test, y_train, y_test = train_test_split(X, y, test_size=0.2, random_state=42)\n",
    "\n",
    "# Convert to PyTorch tensors\n",
    "X_train_tensors = torch.tensor(X_train, dtype=torch.float32)\n",
    "X_test_tensors = torch.tensor(X_test, dtype=torch.float32)\n",
    "y_train_tensors = torch.tensor(y_train, dtype=torch.float32)\n",
    "y_test_tensors = torch.tensor(y_test, dtype=torch.float32)"
   ]
  },
  {
   "cell_type": "code",
   "execution_count": 74,
   "metadata": {},
   "outputs": [],
   "source": [
    "#Accuracy Function\n",
    "\n",
    "def acc_fn(y_true, y_pred):\n",
    "    y_pred = torch.round(y_pred)\n",
    "    correct = torch.eq(y_true, y_pred).sum().item()\n",
    "    accuracy = (correct/len(y_pred)) * 100\n",
    "    return accuracy"
   ]
  },
  {
   "cell_type": "code",
   "execution_count": 75,
   "metadata": {},
   "outputs": [],
   "source": [
    "from torch import nn\n",
    "\n",
    "# class EmailModel(nn.Module):\n",
    "#     def __init__(self, input_size):\n",
    "#         super(EmailModel, self).__init__()\n",
    "#         self.fc1 = nn.Linear(input_size, 512)\n",
    "#         self.fc2 = nn.Linear(512, 128)\n",
    "#         self.fc3 = nn.Linear(128, 64)\n",
    "#         self.fc4 = nn.Linear(64, 1)\n",
    "#         self.relu = nn.ReLU()\n",
    "#         self.sigmoid = nn.Sigmoid()\n",
    "    \n",
    "#     def forward(self, x):\n",
    "#         x = self.relu(self.fc1(x))\n",
    "#         x = self.relu(self.fc2(x))\n",
    "#         x = self.relu(self.fc3(x))\n",
    "    \n",
    "\n",
    "#         x = self.fc4(x)\n",
    "#         x = self.sigmoid(x)\n",
    "#         return x\n",
    "\n",
    "# input_size = 338\n",
    "# model_1 = EmailModel(input_size).to(device)\n",
    "# model_1\n",
    "\n",
    "class EmailModel(nn.Module):\n",
    "    def __init__(self, input_size):\n",
    "        super(EmailModel, self).__init__()\n",
    "        self.fc1 = nn.Linear(input_size, 512)\n",
    "        self.fc2 = nn.Linear(512, 256)\n",
    "        self.fc3 = nn.Linear(256, 128)\n",
    "        self.fc4 = nn.Linear(128, 64)\n",
    "        self.fc5 = nn.Linear(64, 1)\n",
    "        self.leaky_relu = nn.LeakyReLU()\n",
    "        self.dropout = nn.Dropout(0.5)\n",
    "        self.layer_norm1 = nn.LayerNorm(512)\n",
    "        self.layer_norm2 = nn.LayerNorm(256)\n",
    "        self.layer_norm3 = nn.LayerNorm(128)\n",
    "        self.layer_norm4 = nn.LayerNorm(64)\n",
    "        self.sigmoid = nn.Sigmoid()\n",
    "    \n",
    "    def forward(self, x):\n",
    "        x = self.leaky_relu(self.layer_norm1(self.fc1(x)))\n",
    "        x = self.dropout(x)\n",
    "        x = self.leaky_relu(self.layer_norm2(self.fc2(x)))\n",
    "        x = self.dropout(x)\n",
    "        x = self.leaky_relu(self.layer_norm3(self.fc3(x)))\n",
    "        x = self.dropout(x)\n",
    "        x = self.leaky_relu(self.layer_norm4(self.fc4(x)))\n",
    "        x = self.fc5(x)\n",
    "        x = self.sigmoid(x)\n",
    "        return x\n",
    "\n"
   ]
  },
  {
   "cell_type": "code",
   "execution_count": 76,
   "metadata": {},
   "outputs": [
    {
     "name": "stdout",
     "output_type": "stream",
     "text": [
      "Epoch: 1 | Train Loss: 0.7394, Train Acc: 45.75% | Test Loss: 0.8540, Test Acc: 46.00%\n",
      "Epoch: 2 | Train Loss: 0.7539, Train Acc: 51.50% | Test Loss: 0.7785, Test Acc: 54.00%\n",
      "Epoch: 3 | Train Loss: 0.7522, Train Acc: 49.00% | Test Loss: 0.5755, Test Acc: 74.00%\n",
      "Epoch: 4 | Train Loss: 0.5594, Train Acc: 80.00% | Test Loss: 0.4697, Test Acc: 93.00%\n",
      "Epoch: 5 | Train Loss: 0.4739, Train Acc: 89.75% | Test Loss: 0.3466, Test Acc: 93.00%\n",
      "Epoch: 6 | Train Loss: 0.3597, Train Acc: 94.00% | Test Loss: 0.2815, Test Acc: 95.00%\n",
      "Epoch: 7 | Train Loss: 0.2731, Train Acc: 96.00% | Test Loss: 0.2977, Test Acc: 90.00%\n",
      "Epoch: 8 | Train Loss: 0.2294, Train Acc: 95.75% | Test Loss: 0.2222, Test Acc: 95.00%\n",
      "Epoch: 9 | Train Loss: 0.1888, Train Acc: 96.75% | Test Loss: 0.2046, Test Acc: 95.00%\n",
      "Epoch: 10 | Train Loss: 0.1614, Train Acc: 97.00% | Test Loss: 0.2793, Test Acc: 91.00%\n",
      "Epoch: 11 | Train Loss: 0.1299, Train Acc: 97.75% | Test Loss: 0.2876, Test Acc: 91.00%\n",
      "Epoch: 12 | Train Loss: 0.1139, Train Acc: 98.00% | Test Loss: 0.1895, Test Acc: 95.00%\n",
      "Epoch: 13 | Train Loss: 0.0883, Train Acc: 98.50% | Test Loss: 0.2074, Test Acc: 94.00%\n",
      "Epoch: 14 | Train Loss: 0.0834, Train Acc: 98.50% | Test Loss: 0.1994, Test Acc: 95.00%\n",
      "Epoch: 15 | Train Loss: 0.0935, Train Acc: 98.00% | Test Loss: 0.2049, Test Acc: 95.00%\n",
      "Epoch: 16 | Train Loss: 0.0935, Train Acc: 97.50% | Test Loss: 0.1548, Test Acc: 95.00%\n",
      "Epoch: 17 | Train Loss: 0.0640, Train Acc: 98.75% | Test Loss: 0.2611, Test Acc: 93.00%\n",
      "Epoch: 18 | Train Loss: 0.0830, Train Acc: 98.25% | Test Loss: 0.2934, Test Acc: 92.00%\n",
      "Epoch: 19 | Train Loss: 0.0918, Train Acc: 97.75% | Test Loss: 0.2507, Test Acc: 93.00%\n",
      "Epoch: 20 | Train Loss: 0.0693, Train Acc: 98.75% | Test Loss: 0.1416, Test Acc: 97.00%\n",
      "Epoch: 21 | Train Loss: 0.0587, Train Acc: 98.75% | Test Loss: 0.1698, Test Acc: 96.00%\n",
      "Epoch: 22 | Train Loss: 0.0504, Train Acc: 98.75% | Test Loss: 0.2226, Test Acc: 93.00%\n",
      "Epoch: 23 | Train Loss: 0.0776, Train Acc: 98.00% | Test Loss: 0.1845, Test Acc: 96.00%\n",
      "Epoch: 24 | Train Loss: 0.0842, Train Acc: 97.75% | Test Loss: 0.1550, Test Acc: 96.00%\n",
      "Early stopping at epoch 25\n"
     ]
    }
   ],
   "source": [
    "from torch import nn, optim\n",
    "\n",
    "train_losses = []\n",
    "test_losses = []\n",
    "train_accuracies = []\n",
    "test_accuracies = []\n",
    "\n",
    "patience = 5\n",
    "min_delta = 0.01\n",
    "best_loss = float('inf')\n",
    "epochs_without_improvement = 0\n",
    "\n",
    "\n",
    "# Define the model\n",
    "input_size = X_train_tensors.shape[1]\n",
    "model = EmailModel(input_size).to(device)\n",
    "X_test_tensors = X_test_tensors.to(device)\n",
    "X_train_tensors = X_train_tensors.to(device)\n",
    "y_train_tensors = y_train_tensors.to(device)\n",
    "y_test_tensors = y_test_tensors.to(device)\n",
    "\n",
    "# Loss function and optimizer\n",
    "loss_fn = nn.BCELoss()\n",
    "optimizer = optim.AdamW(model.parameters(), lr=0.01)\n",
    "\n",
    "# Training loop\n",
    "epochs = 30\n",
    "for epoch in range(epochs):\n",
    "    model.train()\n",
    "\n",
    "    # Forward pass\n",
    "    train_preds = model(X_train_tensors).squeeze()\n",
    "    train_loss = loss_fn(train_preds, y_train_tensors)\n",
    "    train_acc = acc_fn(y_train_tensors, train_preds)\n",
    "\n",
    "    # Backward pass and optimization\n",
    "    optimizer.zero_grad()\n",
    "    train_loss.backward()\n",
    "    optimizer.step()\n",
    "\n",
    "    # Evaluation\n",
    "    model.eval()\n",
    "    with torch.inference_mode():\n",
    "        test_preds = model(X_test_tensors).squeeze()\n",
    "        test_loss = loss_fn(test_preds, y_test_tensors)\n",
    "        test_acc = acc_fn(y_test_tensors, test_preds)\n",
    "\n",
    "    train_losses.append(train_loss.item())\n",
    "    test_losses.append(test_loss.item())\n",
    "    train_accuracies.append(train_acc)\n",
    "    test_accuracies.append(test_acc)\n",
    "\n",
    "    # Check for early stopping\n",
    "    if test_loss < best_loss - min_delta:\n",
    "        best_loss = test_loss\n",
    "        epochs_without_improvement = 0\n",
    "    else:\n",
    "        epochs_without_improvement += 1\n",
    "\n",
    "    if epochs_without_improvement >= patience:\n",
    "        print(f\"Early stopping at epoch {epoch+1}\")\n",
    "        break\n",
    "        \n",
    "    print(f\"Epoch: {epoch+1} | Train Loss: {train_loss:.4f}, Train Acc: {train_acc:.2f}% | Test Loss: {test_loss:.4f}, Test Acc: {test_acc:.2f}%\")"
   ]
  },
  {
   "cell_type": "code",
   "execution_count": 77,
   "metadata": {},
   "outputs": [
    {
     "data": {
      "image/png": "[encoded data removed]",
      "text/plain": [
       "<Figure size 1200x600 with 2 Axes>"
      ]
     },
     "metadata": {},
     "output_type": "display_data"
    }
   ],
   "source": [
    "import matplotlib.pyplot as plt\n",
    "\n",
    "plt.figure(figsize=(12, 6))\n",
    "\n",
    "# Plot the loss values\n",
    "plt.subplot(1, 2, 1)\n",
    "plt.plot(train_losses, label='Training Loss')\n",
    "plt.plot(test_losses, label='Test Loss')\n",
    "plt.xlabel('Epoch')\n",
    "plt.ylabel('Loss')\n",
    "plt.title('Loss Curves')\n",
    "plt.legend()\n",
    "plt.grid(True)\n",
    "\n",
    "# Plot the accuracy values\n",
    "plt.subplot(1, 2, 2)\n",
    "plt.plot(train_accuracies, label='Training Accuracy')\n",
    "plt.plot(test_accuracies, label='Test Accuracy')\n",
    "plt.xlabel('Epoch')\n",
    "plt.ylabel('Accuracy (%)')\n",
    "plt.title('Accuracy Curves')\n",
    "plt.legend()\n",
    "plt.grid(True)\n",
    "\n",
    "plt.tight_layout()\n",
    "plt.show()"
   ]
  },
  {
   "cell_type": "code",
   "execution_count": 78,
   "metadata": {},
   "outputs": [],
   "source": [
    "torch.save(model.state_dict(), \"EmailModel_params9.pth\")"
   ]
  },
  {
   "cell_type": "code",
   "execution_count": 83,
   "metadata": {},
   "outputs": [],
   "source": [
    "def read_test_email(file_path):\n",
    "    with open(file_path, 'r', encoding='utf-8') as file:\n",
    "        text = file.read()\n",
    "    \n",
    "    parts = text.split('\"')  \n",
    "    \n",
    "    subject = parts[1].strip()\n",
    "    body = parts[3].strip()\n",
    "    \n",
    "    new_email = {'Subject':subject, 'Body':body}\n",
    "    return new_email"
   ]
  },
  {
   "cell_type": "code",
   "execution_count": 84,
   "metadata": {},
   "outputs": [
    {
     "data": {
      "text/plain": [
       "20"
      ]
     },
     "execution_count": 84,
     "metadata": {},
     "output_type": "execute_result"
    }
   ],
   "source": [
    "emails_total = []\n",
    "\n",
    "for i in range(1,21):\n",
    "    file_path = f\"Data/random/rand{i}.txt\"\n",
    "    new_email = read_test_email(file_path)\n",
    "    subject = new_email[\"Subject\"]\n",
    "    body = new_email[\"Body\"]\n",
    "    new_text = preprocess_text(f\"{subject} {body}\")\n",
    "    emails_total.append(new_text)\n",
    "\n",
    "len(emails_total)"
   ]
  },
  {
   "cell_type": "code",
   "execution_count": 85,
   "metadata": {},
   "outputs": [
    {
     "name": "stdout",
     "output_type": "stream",
     "text": [
      "tensor([[0.1069, 0.1131, 0.0000,  ..., 0.0000, 0.1131, 0.1131],\n",
      "        [0.1018, 0.1077, 0.0000,  ..., 0.0000, 0.1077, 0.1077],\n",
      "        [0.1076, 0.1138, 0.0000,  ..., 0.0000, 0.1138, 0.1138],\n",
      "        ...,\n",
      "        [0.0000, 0.0000, 0.0000,  ..., 0.0000, 0.0000, 0.0000],\n",
      "        [0.0000, 0.0000, 0.0000,  ..., 0.1496, 0.0000, 0.0000],\n",
      "        [0.0000, 0.0000, 0.5912,  ..., 0.0000, 0.0000, 0.0000]],\n",
      "       device='cuda:0')\n"
     ]
    }
   ],
   "source": [
    "tfidf_matrix = vectorizer.fit_transform(emails_total)\n",
    "max_features = 100\n",
    "test_email_padded = np.pad(tfidf_matrix.toarray(), ((0, 0), (0, max_features - tfidf_matrix.shape[1])), mode='constant')\n",
    "\n",
    "test_email_tensor = torch.tensor(test_email_padded, dtype=torch.float32).to(device)\n",
    "print(test_email_tensor)\n",
    "\n",
    "# tfidf_matrix = vectorizer.fit_transform(emails_total)\n",
    "\n",
    "# test_email_tensor = torch.tensor(tfidf_matrix.toarray(), dtype=torch.float32).to(device)\n",
    "# print(test_email_tensor)\n"
   ]
  },
  {
   "cell_type": "code",
   "execution_count": 91,
   "metadata": {},
   "outputs": [
    {
     "name": "stdout",
     "output_type": "stream",
     "text": [
      "[1 1 1 1 1 1 1 0 1 1]\n",
      "[1 1 0 0 0 0 0 0 0 0]\n"
     ]
    }
   ],
   "source": [
    "loaded_model = EmailModel(test_email_tensor.shape[1]).to(device)\n",
    "loaded_model.load_state_dict(torch.load(\"EmailModel_params9.pth\"))\n",
    "\n",
    "loaded_model.eval()\n",
    "with torch.inference_mode():\n",
    "    test_email_preds = loaded_model(test_email_tensor).squeeze().cpu().numpy()\n",
    "\n",
    "rounded_preds = test_email_preds.round().astype(int)\n",
    "\n",
    "print(rounded_preds[:10])\n",
    "print(rounded_preds[10:])"
   ]
  }
 ],
 "metadata": {
  "kernelspec": {
   "display_name": "Python 3",
   "language": "python",
   "name": "python3"
  },
  "language_info": {
   "codemirror_mode": {
    "name": "ipython",
    "version": 3
   },
   "file_extension": ".py",
   "mimetype": "text/x-python",
   "name": "python",
   "nbconvert_exporter": "python",
   "pygments_lexer": "ipython3",
   "version": "3.8.19"
  }
 },
 "nbformat": 4,
 "nbformat_minor": 2
}
