{
 "cells": [
  {
   "cell_type": "code",
   "execution_count": 12,
   "metadata": {},
   "outputs": [
    {
     "data": {
      "text/plain": [
       "'cuda'"
      ]
     },
     "execution_count": 12,
     "metadata": {},
     "output_type": "execute_result"
    }
   ],
   "source": [
    "import torch\n",
    "torch.__version__\n",
    "torch.cuda.is_available()\n",
    "\n",
    "device = 'cuda' if torch.cuda.is_available() else 'cpu'\n",
    "device"
   ]
  },
  {
   "cell_type": "code",
   "execution_count": 13,
   "metadata": {},
   "outputs": [],
   "source": [
    "def read_new_email(file_path):\n",
    "    with open(file_path, 'r', encoding='utf-8') as file:\n",
    "        text = file.read()\n",
    "    \n",
    "    parts = text.split('\"')  \n",
    "    \n",
    "    subject = parts[1].strip()\n",
    "    body = parts[3].strip()\n",
    "    label = parts[5].strip()\n",
    "    \n",
    "    new_email = {'Subject':subject, 'Body':body, 'Label':label}\n",
    "    return new_email"
   ]
  },
  {
   "cell_type": "code",
   "execution_count": 14,
   "metadata": {},
   "outputs": [
    {
     "name": "stdout",
     "output_type": "stream",
     "text": [
      "250\n"
     ]
    }
   ],
   "source": [
    "confirmation_emails = []\n",
    "\n",
    "for i in range(1, 251):\n",
    "    file_path = f\"Data/confirmation/conf{i}.txt\"\n",
    "    new_email = read_new_email(file_path)\n",
    "    confirmation_emails.append(new_email)\n",
    "\n",
    "print(len(confirmation_emails))"
   ]
  },
  {
   "cell_type": "code",
   "execution_count": 15,
   "metadata": {},
   "outputs": [
    {
     "name": "stdout",
     "output_type": "stream",
     "text": [
      "250\n"
     ]
    }
   ],
   "source": [
    "rejection_emails = []\n",
    "\n",
    "for i in range(1, 251):\n",
    "    file_path = f\"Data/rejections/rejection{i}.txt\"\n",
    "    new_email = read_new_email(file_path)\n",
    "    rejection_emails.append(new_email)\n",
    "\n",
    "print(len(rejection_emails))"
   ]
  },
  {
   "cell_type": "code",
   "execution_count": 16,
   "metadata": {},
   "outputs": [
    {
     "data": {
      "text/plain": [
       "'thanks for your application to spotify! dear applicant, we just got your application for the 2024 summer internship, engineering (new york city) role! even though this is just an automated confirmation email, you should know that we’re truly excited you want to join the band. we’ll get back to you as soon as we can. we get a huge amount of applications, and we look at them all to give everyone fair consideration – so it may take a few weeks (or sometimes months for really popular roles). in the meantime, you can listen to the playlist we’ll play in the office as we read your resume. want to sneak a backstage peek? follow life at spotify on linkedin, instagram, twitter, and youtube. learn more about our culture through our band manifesto, or listen to the greenroom and spoton! podcasts. still curious? check out our hr blog, podcasting website, and engineering blog! all the best, the spotify recruiting team'"
      ]
     },
     "execution_count": 16,
     "metadata": {},
     "output_type": "execute_result"
    }
   ],
   "source": [
    "for i in range(0, len(confirmation_emails)):\n",
    "    subject = confirmation_emails[i][\"Subject\"]\n",
    "    body = confirmation_emails[i][\"Body\"]\n",
    "    confirmation_emails[i] = f\"{subject} {body}\"\n",
    "\n",
    "confirmation_emails[0]"
   ]
  },
  {
   "cell_type": "code",
   "execution_count": 17,
   "metadata": {},
   "outputs": [
    {
     "data": {
      "text/plain": [
       "\"update on your skydio application - wireless software intern hi applicant, thank you for applying for the wireless software intern role at skydio! we know that there are lots of exciting companies out there, so we appreciate the time you took to apply to ours. after reviewing your application, we have unfortunately decided not to move forward at this time. while we greatly appreciate your interest in skydio, we ultimately decided to proceed with other candidates whose skills and experience align more closely with our needs for this specific role. if you submitted an application to other roles at skydio and haven't heard back, then your resume is still under review and we will be in touch soon with an update. our hiring priorities are constantly evolving, so we encourage you to keep an eye on our jobs page. if you see another role that seems like a good fit, please don't hesitate to apply. in the meantime, we'd like to thank you again for your interest and we wish you all the best in your job search. cheers, skydio talent team\""
      ]
     },
     "execution_count": 17,
     "metadata": {},
     "output_type": "execute_result"
    }
   ],
   "source": [
    "for i in range(0, len(rejection_emails)):\n",
    "    subject = rejection_emails[i][\"Subject\"]\n",
    "    body = rejection_emails[i][\"Body\"]\n",
    "    rejection_emails[i] = f\"{subject} {body}\"\n",
    "\n",
    "rejection_emails[0]"
   ]
  },
  {
   "cell_type": "code",
   "execution_count": 18,
   "metadata": {},
   "outputs": [],
   "source": [
    "import nltk \n",
    "from nltk.corpus import stopwords\n",
    "from nltk.tokenize import word_tokenize\n",
    "from nltk.stem import WordNetLemmatizer\n",
    "import string\n",
    "\n",
    "\n",
    "def preprocess_text(text):\n",
    "    # Tokenize the text\n",
    "    tokens = word_tokenize(text)\n",
    "    \n",
    "    # Remove punctuation\n",
    "    tokens = [word for word in tokens if word not in string.punctuation]\n",
    "    \n",
    "    # Convert to lowercase\n",
    "    tokens = [word.lower() for word in tokens]\n",
    "    \n",
    "    # Remove stop words\n",
    "    stop_words = set(stopwords.words('english'))\n",
    "    tokens = [word for word in tokens if word not in stop_words]\n",
    "    \n",
    "    # Lemmatize tokens\n",
    "    lemmatizer = WordNetLemmatizer()\n",
    "    tokens = [lemmatizer.lemmatize(word) for word in tokens]\n",
    "    \n",
    "    # Join tokens back into a string\n",
    "    preprocessed_text = ' '.join(tokens)\n",
    "    \n",
    "    return preprocessed_text\n",
    "\n"
   ]
  },
  {
   "cell_type": "code",
   "execution_count": 19,
   "metadata": {},
   "outputs": [],
   "source": [
    "for i in range(0, len(confirmation_emails)):\n",
    "    new_text = preprocess_text(confirmation_emails[i])\n",
    "    confirmation_emails[i] = new_text\n",
    "\n",
    "for i in range(0, len(rejection_emails)):\n",
    "    new_text = preprocess_text(rejection_emails[i])\n",
    "    rejection_emails[i] = new_text\n",
    "\n"
   ]
  },
  {
   "cell_type": "code",
   "execution_count": 20,
   "metadata": {},
   "outputs": [],
   "source": [
    "confirmation_labels = [1] * len(confirmation_emails)\n",
    "rejection_labels = [0] * len(rejection_emails)"
   ]
  },
  {
   "cell_type": "code",
   "execution_count": 21,
   "metadata": {},
   "outputs": [],
   "source": [
    "emails = confirmation_emails + rejection_emails\n",
    "labels = confirmation_labels + rejection_labels"
   ]
  },
  {
   "cell_type": "code",
   "execution_count": 22,
   "metadata": {},
   "outputs": [],
   "source": [
    "import numpy as np\n",
    "from sklearn.feature_extraction.text import TfidfVectorizer\n",
    "\n",
    "# Convert text data to TF-IDF features\n",
    "vectorizer = TfidfVectorizer(stop_words='english', max_features=30)  \n",
    "\n",
    "X = vectorizer.fit_transform(emails).toarray()\n",
    "X = np.pad(X, ((0, 0), (0, 30 - X.shape[1])), mode='constant')\n",
    "y = np.array(labels)"
   ]
  },
  {
   "cell_type": "code",
   "execution_count": 23,
   "metadata": {},
   "outputs": [],
   "source": [
    "import torch\n",
    "from sklearn.model_selection import train_test_split\n",
    "\n",
    "# Split the data into training and test sets\n",
    "X_train, X_test, y_train, y_test = train_test_split(X, y, test_size=0.2, random_state=42)\n",
    "\n",
    "# Convert to PyTorch tensors\n",
    "X_train_tensors = torch.tensor(X_train, dtype=torch.float32)\n",
    "X_test_tensors = torch.tensor(X_test, dtype=torch.float32)\n",
    "y_train_tensors = torch.tensor(y_train, dtype=torch.float32)\n",
    "y_test_tensors = torch.tensor(y_test, dtype=torch.float32)"
   ]
  },
  {
   "cell_type": "code",
   "execution_count": 24,
   "metadata": {},
   "outputs": [],
   "source": [
    "#Accuracy Function\n",
    "\n",
    "def acc_fn(y_true, y_pred):\n",
    "    y_pred = torch.round(y_pred)\n",
    "    correct = torch.eq(y_true, y_pred).sum().item()\n",
    "    accuracy = (correct/len(y_pred)) * 100\n",
    "    return accuracy"
   ]
  },
  {
   "cell_type": "code",
   "execution_count": 25,
   "metadata": {},
   "outputs": [],
   "source": [
    "from torch import nn\n",
    "\n",
    "# class EmailModel(nn.Module):\n",
    "#     def __init__(self, input_size):\n",
    "#         super(EmailModel, self).__init__()\n",
    "#         self.fc1 = nn.Linear(input_size, 512)\n",
    "#         self.fc2 = nn.Linear(512, 128)\n",
    "#         self.fc3 = nn.Linear(128, 64)\n",
    "#         self.fc4 = nn.Linear(64, 1)\n",
    "#         self.relu = nn.ReLU()\n",
    "#         self.sigmoid = nn.Sigmoid()\n",
    "    \n",
    "#     def forward(self, x):\n",
    "#         x = self.relu(self.fc1(x))\n",
    "#         x = self.relu(self.fc2(x))\n",
    "#         x = self.relu(self.fc3(x))\n",
    "    \n",
    "\n",
    "#         x = self.fc4(x)\n",
    "#         x = self.sigmoid(x)\n",
    "#         return x\n",
    "\n",
    "# input_size = 338\n",
    "# model_1 = EmailModel(input_size).to(device)\n",
    "# model_1\n",
    "\n",
    "class EmailModel(nn.Module):\n",
    "    def __init__(self, input_size):\n",
    "        super(EmailModel, self).__init__()\n",
    "        self.fc1 = nn.Linear(input_size, 512)\n",
    "        self.fc2 = nn.Linear(512, 256)\n",
    "        self.fc3 = nn.Linear(256, 128)\n",
    "        self.fc4 = nn.Linear(128, 64)\n",
    "        self.fc5 = nn.Linear(64, 1)\n",
    "        self.leaky_relu = nn.LeakyReLU()\n",
    "        self.dropout = nn.Dropout(0.5)\n",
    "        self.layer_norm1 = nn.LayerNorm(512)\n",
    "        self.layer_norm2 = nn.LayerNorm(256)\n",
    "        self.layer_norm3 = nn.LayerNorm(128)\n",
    "        self.layer_norm4 = nn.LayerNorm(64)\n",
    "        self.sigmoid = nn.Sigmoid()\n",
    "    \n",
    "    def forward(self, x):\n",
    "        x = self.leaky_relu(self.layer_norm1(self.fc1(x)))\n",
    "        x = self.dropout(x)\n",
    "        x = self.leaky_relu(self.layer_norm2(self.fc2(x)))\n",
    "        x = self.dropout(x)\n",
    "        x = self.leaky_relu(self.layer_norm3(self.fc3(x)))\n",
    "        x = self.dropout(x)\n",
    "        x = self.leaky_relu(self.layer_norm4(self.fc4(x)))\n",
    "        x = self.fc5(x)\n",
    "        x = self.sigmoid(x)\n",
    "        return x\n",
    "\n"
   ]
  },
  {
   "cell_type": "code",
   "execution_count": 1262,
   "metadata": {},
   "outputs": [
    {
     "name": "stdout",
     "output_type": "stream",
     "text": [
      "Epoch: 1 | Train Loss: 0.7069, Train Acc: 52.50% | Test Loss: 0.8925, Test Acc: 54.00%\n",
      "Epoch: 2 | Train Loss: 0.8273, Train Acc: 49.00% | Test Loss: 0.8435, Test Acc: 46.00%\n",
      "Epoch: 3 | Train Loss: 0.7402, Train Acc: 51.00% | Test Loss: 0.6328, Test Acc: 48.00%\n",
      "Epoch: 4 | Train Loss: 0.6249, Train Acc: 60.75% | Test Loss: 0.5793, Test Acc: 87.00%\n",
      "Epoch: 5 | Train Loss: 0.5761, Train Acc: 90.00% | Test Loss: 0.5283, Test Acc: 84.00%\n",
      "Epoch: 6 | Train Loss: 0.5183, Train Acc: 89.00% | Test Loss: 0.4360, Test Acc: 88.00%\n",
      "Epoch: 7 | Train Loss: 0.4117, Train Acc: 92.75% | Test Loss: 0.3571, Test Acc: 89.00%\n",
      "Epoch: 8 | Train Loss: 0.3274, Train Acc: 94.50% | Test Loss: 0.3347, Test Acc: 90.00%\n",
      "Epoch: 9 | Train Loss: 0.2759, Train Acc: 94.00% | Test Loss: 0.3104, Test Acc: 90.00%\n",
      "Epoch: 10 | Train Loss: 0.2431, Train Acc: 95.00% | Test Loss: 0.2970, Test Acc: 91.00%\n",
      "Epoch: 11 | Train Loss: 0.2141, Train Acc: 95.25% | Test Loss: 0.2948, Test Acc: 91.00%\n",
      "Epoch: 12 | Train Loss: 0.1843, Train Acc: 95.75% | Test Loss: 0.2727, Test Acc: 91.00%\n",
      "Epoch: 13 | Train Loss: 0.1699, Train Acc: 96.00% | Test Loss: 0.2787, Test Acc: 91.00%\n",
      "Epoch: 14 | Train Loss: 0.1632, Train Acc: 95.75% | Test Loss: 0.2759, Test Acc: 91.00%\n",
      "Epoch: 15 | Train Loss: 0.1450, Train Acc: 96.50% | Test Loss: 0.2559, Test Acc: 92.00%\n",
      "Epoch: 16 | Train Loss: 0.1589, Train Acc: 95.75% | Test Loss: 0.2302, Test Acc: 94.00%\n",
      "Epoch: 17 | Train Loss: 0.1459, Train Acc: 96.25% | Test Loss: 0.2286, Test Acc: 94.00%\n",
      "Epoch: 18 | Train Loss: 0.1204, Train Acc: 96.75% | Test Loss: 0.2275, Test Acc: 94.00%\n",
      "Epoch: 19 | Train Loss: 0.0990, Train Acc: 97.50% | Test Loss: 0.2392, Test Acc: 94.00%\n",
      "Epoch: 20 | Train Loss: 0.1213, Train Acc: 96.25% | Test Loss: 0.2611, Test Acc: 92.00%\n",
      "Early stopping at epoch 21\n"
     ]
    }
   ],
   "source": [
    "from torch import nn, optim\n",
    "\n",
    "train_losses = []\n",
    "test_losses = []\n",
    "train_accuracies = []\n",
    "test_accuracies = []\n",
    "\n",
    "patience = 5\n",
    "min_delta = 0.01\n",
    "best_loss = float('inf')\n",
    "epochs_without_improvement = 0\n",
    "\n",
    "\n",
    "# Define the model\n",
    "input_size = X_train_tensors.shape[1]\n",
    "model = EmailModel(input_size).to(device)\n",
    "X_test_tensors = X_test_tensors.to(device)\n",
    "X_train_tensors = X_train_tensors.to(device)\n",
    "y_train_tensors = y_train_tensors.to(device)\n",
    "y_test_tensors = y_test_tensors.to(device)\n",
    "\n",
    "# Loss function and optimizer\n",
    "loss_fn = nn.BCELoss()\n",
    "optimizer = optim.AdamW(model.parameters(), lr=0.01)\n",
    "\n",
    "# Training loop\n",
    "epochs = 25\n",
    "for epoch in range(epochs):\n",
    "    model.train()\n",
    "\n",
    "    # Forward pass\n",
    "    train_preds = model(X_train_tensors).squeeze()\n",
    "    train_loss = loss_fn(train_preds, y_train_tensors)\n",
    "    train_acc = acc_fn(y_train_tensors, train_preds)\n",
    "\n",
    "    # Backward pass and optimization\n",
    "    optimizer.zero_grad()\n",
    "    train_loss.backward()\n",
    "    optimizer.step()\n",
    "\n",
    "    # Evaluation\n",
    "    model.eval()\n",
    "    with torch.inference_mode():\n",
    "        test_preds = model(X_test_tensors).squeeze()\n",
    "        test_loss = loss_fn(test_preds, y_test_tensors)\n",
    "        test_acc = acc_fn(y_test_tensors, test_preds)\n",
    "\n",
    "    train_losses.append(train_loss.item())\n",
    "    test_losses.append(test_loss.item())\n",
    "    train_accuracies.append(train_acc)\n",
    "    test_accuracies.append(test_acc)\n",
    "\n",
    "    #Check for early stopping\n",
    "    if test_loss < best_loss - min_delta:\n",
    "        best_loss = test_loss\n",
    "        epochs_without_improvement = 0\n",
    "    else:\n",
    "        epochs_without_improvement += 1\n",
    "\n",
    "    if epochs_without_improvement >= patience:\n",
    "        print(f\"Early stopping at epoch {epoch+1}\")\n",
    "        break\n",
    "        \n",
    "    print(f\"Epoch: {epoch+1} | Train Loss: {train_loss:.4f}, Train Acc: {train_acc:.2f}% | Test Loss: {test_loss:.4f}, Test Acc: {test_acc:.2f}%\")"
   ]
  },
  {
   "cell_type": "code",
   "execution_count": 1263,
   "metadata": {},
   "outputs": [
    {
     "data": {
      "image/png": "[encoded data removed]",
      "text/plain": [
       "<Figure size 1200x600 with 2 Axes>"
      ]
     },
     "metadata": {},
     "output_type": "display_data"
    }
   ],
   "source": [
    "import matplotlib.pyplot as plt\n",
    "\n",
    "plt.figure(figsize=(12, 6))\n",
    "\n",
    "# Plot the loss values\n",
    "plt.subplot(1, 2, 1)\n",
    "plt.plot(train_losses, label='Training Loss')\n",
    "plt.plot(test_losses, label='Test Loss')\n",
    "plt.xlabel('Epoch')\n",
    "plt.ylabel('Loss')\n",
    "plt.title('Loss Curves')\n",
    "plt.legend()\n",
    "plt.grid(True)\n",
    "\n",
    "# Plot the accuracy values\n",
    "plt.subplot(1, 2, 2)\n",
    "plt.plot(train_accuracies, label='Training Accuracy')\n",
    "plt.plot(test_accuracies, label='Test Accuracy')\n",
    "plt.xlabel('Epoch')\n",
    "plt.ylabel('Accuracy (%)')\n",
    "plt.title('Accuracy Curves')\n",
    "plt.legend()\n",
    "plt.grid(True)\n",
    "\n",
    "plt.tight_layout()\n",
    "plt.show()"
   ]
  },
  {
   "cell_type": "code",
   "execution_count": 1264,
   "metadata": {},
   "outputs": [],
   "source": [
    "torch.save(model.state_dict(), \"EmailModel_params12.pth\")"
   ]
  },
  {
   "cell_type": "code",
   "execution_count": 26,
   "metadata": {},
   "outputs": [],
   "source": [
    "def read_test_email(file_path):\n",
    "    with open(file_path, 'r', encoding='utf-8') as file:\n",
    "        text = file.read()\n",
    "    \n",
    "    parts = text.split('\"')  \n",
    "    \n",
    "    subject = parts[1].strip()\n",
    "    body = parts[3].strip()\n",
    "    \n",
    "    new_email = {'Subject':subject, 'Body':body}\n",
    "    return new_email"
   ]
  },
  {
   "cell_type": "code",
   "execution_count": 27,
   "metadata": {},
   "outputs": [
    {
     "data": {
      "text/plain": [
       "24"
      ]
     },
     "execution_count": 27,
     "metadata": {},
     "output_type": "execute_result"
    }
   ],
   "source": [
    "emails_total = []\n",
    "\n",
    "for i in range(1,25):\n",
    "    file_path = f\"Data/random/rand{i}.txt\"\n",
    "    new_email = read_test_email(file_path)\n",
    "    subject = new_email[\"Subject\"]\n",
    "    body = new_email[\"Body\"]\n",
    "    new_text = preprocess_text(f\"{subject} {body}\")\n",
    "    emails_total.append(new_text)\n",
    "\n",
    "len(emails_total)"
   ]
  },
  {
   "cell_type": "code",
   "execution_count": 28,
   "metadata": {},
   "outputs": [
    {
     "name": "stdout",
     "output_type": "stream",
     "text": [
      "tensor([[0.1907, 0.1100, 0.1819, 0.2107, 0.2002, 0.0000, 0.4214, 0.2107, 0.2107,\n",
      "         0.1240, 0.1819, 0.2107, 0.2002, 0.2107, 0.1590, 0.2107, 0.0000, 0.1100,\n",
      "         0.1737, 0.1907, 0.0000, 0.0000, 0.1661, 0.0000, 0.2107, 0.2107, 0.1819,\n",
      "         0.2289, 0.0000, 0.2002],\n",
      "        [0.1957, 0.2257, 0.1867, 0.2163, 0.2055, 0.0000, 0.2163, 0.2163, 0.2163,\n",
      "         0.2546, 0.1867, 0.2163, 0.2055, 0.2163, 0.1632, 0.2163, 0.0000, 0.1129,\n",
      "         0.1783, 0.1957, 0.0000, 0.0000, 0.1705, 0.0000, 0.2163, 0.2163, 0.1867,\n",
      "         0.2349, 0.0000, 0.2055],\n",
      "        [0.1907, 0.1100, 0.1819, 0.2107, 0.2002, 0.0000, 0.4214, 0.2107, 0.2107,\n",
      "         0.1240, 0.1819, 0.2107, 0.2002, 0.2107, 0.1590, 0.2107, 0.0000, 0.1100,\n",
      "         0.1737, 0.1907, 0.0000, 0.0000, 0.1661, 0.0000, 0.2107, 0.2107, 0.1819,\n",
      "         0.2289, 0.0000, 0.2002],\n",
      "        [0.2006, 0.2314, 0.1914, 0.2217, 0.2107, 0.0000, 0.2217, 0.2217, 0.2217,\n",
      "         0.1305, 0.1914, 0.2217, 0.2107, 0.2217, 0.1673, 0.2217, 0.0000, 0.1157,\n",
      "         0.1828, 0.2006, 0.0000, 0.0000, 0.1748, 0.0000, 0.2217, 0.2217, 0.1914,\n",
      "         0.2409, 0.0000, 0.2107],\n",
      "        [0.1907, 0.1100, 0.1819, 0.2107, 0.2002, 0.0000, 0.4214, 0.2107, 0.2107,\n",
      "         0.1240, 0.1819, 0.2107, 0.2002, 0.2107, 0.1590, 0.2107, 0.0000, 0.1100,\n",
      "         0.1737, 0.1907, 0.0000, 0.0000, 0.1661, 0.0000, 0.2107, 0.2107, 0.1819,\n",
      "         0.2289, 0.0000, 0.2002],\n",
      "        [0.1957, 0.2257, 0.1867, 0.2163, 0.2055, 0.0000, 0.2163, 0.2163, 0.2163,\n",
      "         0.2546, 0.1867, 0.2163, 0.2055, 0.2163, 0.1632, 0.2163, 0.0000, 0.1129,\n",
      "         0.1783, 0.1957, 0.0000, 0.0000, 0.1705, 0.0000, 0.2163, 0.2163, 0.1867,\n",
      "         0.2349, 0.0000, 0.2055],\n",
      "        [0.1907, 0.1100, 0.1819, 0.2107, 0.2002, 0.0000, 0.4214, 0.2107, 0.2107,\n",
      "         0.1240, 0.1819, 0.2107, 0.2002, 0.2107, 0.1590, 0.2107, 0.0000, 0.1100,\n",
      "         0.1737, 0.1907, 0.0000, 0.0000, 0.1661, 0.0000, 0.2107, 0.2107, 0.1819,\n",
      "         0.2289, 0.0000, 0.2002],\n",
      "        [0.2006, 0.2314, 0.1914, 0.2217, 0.2107, 0.0000, 0.2217, 0.2217, 0.2217,\n",
      "         0.1305, 0.1914, 0.2217, 0.2107, 0.2217, 0.1673, 0.2217, 0.0000, 0.1157,\n",
      "         0.1828, 0.2006, 0.0000, 0.0000, 0.1748, 0.0000, 0.2217, 0.2217, 0.1914,\n",
      "         0.2409, 0.0000, 0.2107],\n",
      "        [0.1907, 0.1100, 0.1819, 0.2107, 0.2002, 0.0000, 0.4214, 0.2107, 0.2107,\n",
      "         0.1240, 0.1819, 0.2107, 0.2002, 0.2107, 0.1590, 0.2107, 0.0000, 0.1100,\n",
      "         0.1737, 0.1907, 0.0000, 0.0000, 0.1661, 0.0000, 0.2107, 0.2107, 0.1819,\n",
      "         0.2289, 0.0000, 0.2002],\n",
      "        [0.3540, 0.2042, 0.3377, 0.0000, 0.0000, 0.0000, 0.0000, 0.0000, 0.0000,\n",
      "         0.2303, 0.3377, 0.0000, 0.0000, 0.0000, 0.2953, 0.0000, 0.0000, 0.2042,\n",
      "         0.3226, 0.0000, 0.0000, 0.0000, 0.0000, 0.0000, 0.0000, 0.0000, 0.0000,\n",
      "         0.4250, 0.0000, 0.3718],\n",
      "        [0.0000, 0.2067, 0.0000, 0.0000, 0.0000, 0.3585, 0.0000, 0.0000, 0.0000,\n",
      "         0.2332, 0.0000, 0.0000, 0.0000, 0.0000, 0.2990, 0.0000, 0.3765, 0.2067,\n",
      "         0.0000, 0.0000, 0.3765, 0.3419, 0.0000, 0.0000, 0.0000, 0.0000, 0.0000,\n",
      "         0.2152, 0.4423, 0.0000],\n",
      "        [0.0000, 0.1767, 0.0000, 0.0000, 0.0000, 0.3063, 0.0000, 0.0000, 0.0000,\n",
      "         0.1992, 0.0000, 0.0000, 0.0000, 0.0000, 0.0000, 0.0000, 0.0000, 0.1767,\n",
      "         0.0000, 0.0000, 0.3217, 0.2922, 0.2669, 0.7143, 0.0000, 0.0000, 0.0000,\n",
      "         0.1839, 0.0000, 0.0000],\n",
      "        [0.0000, 0.2134, 0.0000, 0.0000, 0.0000, 0.3701, 0.0000, 0.0000, 0.0000,\n",
      "         0.0000, 0.0000, 0.0000, 0.0000, 0.0000, 0.0000, 0.0000, 0.3887, 0.4269,\n",
      "         0.0000, 0.0000, 0.3887, 0.3530, 0.0000, 0.0000, 0.0000, 0.0000, 0.0000,\n",
      "         0.0000, 0.4566, 0.0000],\n",
      "        [0.0000, 0.4503, 0.0000, 0.0000, 0.0000, 0.3904, 0.0000, 0.0000, 0.0000,\n",
      "         0.2539, 0.0000, 0.0000, 0.0000, 0.0000, 0.0000, 0.0000, 0.4100, 0.2251,\n",
      "         0.0000, 0.0000, 0.4100, 0.3724, 0.0000, 0.0000, 0.0000, 0.0000, 0.0000,\n",
      "         0.2343, 0.0000, 0.0000],\n",
      "        [0.0000, 0.3611, 0.0000, 0.0000, 0.0000, 0.3131, 0.0000, 0.0000, 0.0000,\n",
      "         0.2036, 0.0000, 0.0000, 0.0000, 0.0000, 0.0000, 0.0000, 0.3288, 0.1806,\n",
      "         0.0000, 0.0000, 0.3288, 0.2986, 0.2728, 0.3650, 0.0000, 0.0000, 0.0000,\n",
      "         0.1879, 0.3863, 0.0000],\n",
      "        [0.0000, 0.2075, 0.3431, 0.0000, 0.0000, 0.3597, 0.0000, 0.0000, 0.0000,\n",
      "         0.2340, 0.0000, 0.0000, 0.0000, 0.0000, 0.0000, 0.0000, 0.0000, 0.4149,\n",
      "         0.0000, 0.0000, 0.3778, 0.3431, 0.0000, 0.4194, 0.0000, 0.0000, 0.0000,\n",
      "         0.2159, 0.0000, 0.0000],\n",
      "        [0.0000, 0.1984, 0.0000, 0.0000, 0.0000, 0.3441, 0.0000, 0.0000, 0.0000,\n",
      "         0.2238, 0.0000, 0.0000, 0.0000, 0.0000, 0.0000, 0.0000, 0.3614, 0.1984,\n",
      "         0.0000, 0.0000, 0.3614, 0.3282, 0.0000, 0.4012, 0.0000, 0.0000, 0.0000,\n",
      "         0.2065, 0.4246, 0.0000],\n",
      "        [0.0000, 0.3871, 0.0000, 0.0000, 0.0000, 0.3356, 0.0000, 0.0000, 0.0000,\n",
      "         0.2183, 0.0000, 0.0000, 0.0000, 0.0000, 0.0000, 0.0000, 0.0000, 0.5806,\n",
      "         0.0000, 0.0000, 0.3524, 0.3201, 0.2924, 0.0000, 0.0000, 0.0000, 0.0000,\n",
      "         0.2014, 0.0000, 0.0000],\n",
      "        [0.0000, 0.1936, 0.0000, 0.0000, 0.0000, 0.3357, 0.0000, 0.0000, 0.0000,\n",
      "         0.2184, 0.0000, 0.0000, 0.0000, 0.0000, 0.0000, 0.0000, 0.7051, 0.1936,\n",
      "         0.0000, 0.0000, 0.3526, 0.3202, 0.0000, 0.0000, 0.0000, 0.0000, 0.0000,\n",
      "         0.2015, 0.0000, 0.0000],\n",
      "        [0.0000, 0.3649, 0.3018, 0.0000, 0.0000, 0.3164, 0.0000, 0.0000, 0.0000,\n",
      "         0.2058, 0.0000, 0.0000, 0.0000, 0.0000, 0.0000, 0.0000, 0.3322, 0.3649,\n",
      "         0.0000, 0.0000, 0.3322, 0.3018, 0.0000, 0.0000, 0.0000, 0.0000, 0.0000,\n",
      "         0.1899, 0.3903, 0.0000],\n",
      "        [0.0000, 0.1966, 0.0000, 0.0000, 0.0000, 0.1704, 0.0000, 0.0000, 0.0000,\n",
      "         0.0000, 0.0000, 0.0000, 0.0000, 0.0000, 0.1421, 0.0000, 0.1790, 0.1966,\n",
      "         0.0000, 0.0000, 0.0000, 0.1625, 0.0000, 0.1987, 0.0000, 0.0000, 0.1625,\n",
      "         0.2046, 0.8410, 0.0000],\n",
      "        [0.0000, 0.2615, 0.0000, 0.0000, 0.2381, 0.0000, 0.0000, 0.0000, 0.0000,\n",
      "         0.1474, 0.0000, 0.0000, 0.4761, 0.0000, 0.1891, 0.0000, 0.2381, 0.1307,\n",
      "         0.2065, 0.4534, 0.0000, 0.2162, 0.0000, 0.2643, 0.0000, 0.0000, 0.0000,\n",
      "         0.2721, 0.2797, 0.0000],\n",
      "        [0.2180, 0.3772, 0.0000, 0.0000, 0.0000, 0.0000, 0.0000, 0.0000, 0.0000,\n",
      "         0.1418, 0.2080, 0.0000, 0.0000, 0.0000, 0.1819, 0.0000, 0.2290, 0.1257,\n",
      "         0.1987, 0.2180, 0.0000, 0.0000, 0.1900, 0.2542, 0.0000, 0.0000, 0.6239,\n",
      "         0.2618, 0.0000, 0.0000],\n",
      "        [0.0000, 0.5020, 0.0000, 0.0000, 0.0000, 0.0000, 0.0000, 0.0000, 0.0000,\n",
      "         0.0000, 0.2767, 0.0000, 0.0000, 0.0000, 0.2420, 0.0000, 0.0000, 0.1673,\n",
      "         0.2643, 0.0000, 0.0000, 0.0000, 0.2528, 0.3383, 0.0000, 0.0000, 0.5535,\n",
      "         0.1742, 0.0000, 0.0000]], device='cuda:0')\n"
     ]
    }
   ],
   "source": [
    "tfidf_matrix = vectorizer.fit_transform(emails_total)\n",
    "max_features = 30\n",
    "test_email_padded = np.pad(tfidf_matrix.toarray(), ((0, 0), (0, max_features - tfidf_matrix.shape[1])), mode='constant')\n",
    "\n",
    "test_email_tensor = torch.tensor(test_email_padded, dtype=torch.float32).to(device)\n",
    "print(test_email_tensor)\n",
    "\n",
    "# tfidf_matrix = vectorizer.fit_transform(emails_total)\n",
    "\n",
    "# test_email_tensor = torch.tensor(tfidf_matrix.toarray(), dtype=torch.float32).to(device)\n",
    "# print(test_email_tensor)\n"
   ]
  },
  {
   "cell_type": "code",
   "execution_count": 1273,
   "metadata": {},
   "outputs": [
    {
     "name": "stdout",
     "output_type": "stream",
     "text": [
      "[1 1 1 1 1 1 1 1 1 1]\n",
      "[0 0 0 0 0 1 0 1 0 0 0 1 1 1]\n"
     ]
    }
   ],
   "source": [
    "loaded_model = EmailModel(test_email_tensor.shape[1]).to(device)\n",
    "loaded_model.load_state_dict(torch.load(\"EmailModel_params10.pth\"))\n",
    "\n",
    "loaded_model.eval()\n",
    "with torch.inference_mode():\n",
    "    test_email_preds = loaded_model(test_email_tensor).squeeze().cpu().numpy()\n",
    "\n",
    "rounded_preds = test_email_preds.round().astype(int)\n",
    "\n",
    "print(rounded_preds[:10])\n",
    "print(rounded_preds[10:])\n",
    "# print(rounded_preds)"
   ]
  },
  {
   "cell_type": "code",
   "execution_count": 29,
   "metadata": {},
   "outputs": [],
   "source": [
    "loaded_model = EmailModel(test_email_tensor.shape[1]).to(device)\n",
    "loaded_model.load_state_dict(torch.load(\"EmailModel_params10.pth\"))\n",
    "loaded_model.eval()\n",
    "\n",
    "dummy_input = test_email_tensor\n",
    "\n",
    "\n"
   ]
  },
  {
   "cell_type": "code",
   "execution_count": 34,
   "metadata": {},
   "outputs": [],
   "source": [
    "from torch import nn\n",
    "import torch.utils.model_zoo as model_zoo\n",
    "import torch.onnx\n",
    "\n",
    "torch.onnx.export(loaded_model, dummy_input, \"EmailModel.onnx\",\n",
    "                  export_params=True,        # store the trained parameter weights inside the model file\n",
    "                  opset_version=11,          # the ONNX version to export the model to\n",
    "                  do_constant_folding=True,  # whether to execute constant folding for optimization\n",
    "                  input_names = ['input'],   # the model's input names\n",
    "                  output_names = ['output'], # the model's output names\n",
    "                  dynamic_axes={'input' : {0 : 'batch_size'},    # variable length axes\n",
    "                                'output' : {0 : 'batch_size'}})"
   ]
  },
  {
   "cell_type": "code",
   "execution_count": 35,
   "metadata": {},
   "outputs": [
    {
     "name": "stderr",
     "output_type": "stream",
     "text": [
      "'onnx-tf' is not recognized as an internal or external command,\n",
      "operable program or batch file.\n"
     ]
    }
   ],
   "source": [
    "!onnx-tf convert -i EmailModel.onnx -o email_model_tf"
   ]
  }
 ],
 "metadata": {
  "kernelspec": {
   "display_name": "Python 3",
   "language": "python",
   "name": "python3"
  },
  "language_info": {
   "codemirror_mode": {
    "name": "ipython",
    "version": 3
   },
   "file_extension": ".py",
   "mimetype": "text/x-python",
   "name": "python",
   "nbconvert_exporter": "python",
   "pygments_lexer": "ipython3",
   "version": "3.11.7"
  }
 },
 "nbformat": 4,
 "nbformat_minor": 2
}
