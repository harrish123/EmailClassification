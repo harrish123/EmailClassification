{
 "cells": [
  {
   "cell_type": "code",
   "execution_count": null,
   "metadata": {},
   "outputs": [],
   "source": [
    "import torch\n",
    "torch.__version__\n",
    "torch.cuda.is_available()"
   ]
  },
  {
   "cell_type": "code",
   "execution_count": null,
   "metadata": {},
   "outputs": [],
   "source": [
    "def read_new_email(file_path):\n",
    "    with open(file_path, 'r', encoding='utf-8') as file:\n",
    "        text = file.read()\n",
    "    \n",
    "    parts = text.split('\"')  \n",
    "    \n",
    "    subject = parts[1].strip()\n",
    "    body = parts[3].strip()\n",
    "    label = parts[5].strip()\n",
    "    \n",
    "    new_email = {'Subject':subject, 'Body':body, 'Label':label}\n",
    "    return new_email"
   ]
  },
  {
   "cell_type": "code",
   "execution_count": 84,
   "metadata": {},
   "outputs": [
    {
     "name": "stdout",
     "output_type": "stream",
     "text": [
      "92\n"
     ]
    }
   ],
   "source": [
    "confirmation_emails = []\n",
    "\n",
    "for i in range(1, 93):\n",
    "    file_path = f\"Data/confirmation/conf{i}.txt\"\n",
    "    new_email = read_new_email(file_path)\n",
    "    confirmation_emails.append(new_email)\n",
    "\n",
    "print(len(confirmation_emails))"
   ]
  },
  {
   "cell_type": "code",
   "execution_count": 83,
   "metadata": {},
   "outputs": [
    {
     "name": "stdout",
     "output_type": "stream",
     "text": [
      "104\n"
     ]
    }
   ],
   "source": [
    "rejection_emails = []\n",
    "\n",
    "for i in range(1, 105):\n",
    "    file_path = f\"Data/rejections/rejection{i}.txt\"\n",
    "    new_email = read_new_email(file_path)\n",
    "    rejection_emails.append(new_email)\n",
    "\n",
    "print(len(rejection_emails))"
   ]
  },
  {
   "cell_type": "code",
   "execution_count": 82,
   "metadata": {},
   "outputs": [],
   "source": [
    "from sklearn.model_selection import train_test_split\n",
    "\n",
    "all_emails = []\n",
    "\n",
    "\n",
    "for i in range(0, len(confirmation_emails)):\n",
    "    if isinstance(confirmation_emails[i], dict):\n",
    "        all_emails.append(confirmation_emails[i])\n",
    "\n",
    "for i in range(0, len(rejection_emails)):\n",
    "    if isinstance(rejection_emails[i], dict):\n",
    "        all_emails.append(rejection_emails[i])\n",
    "\n",
    "messages = []\n",
    "labels = []\n",
    "\n",
    "\n",
    "for i in range(0, len(all_emails)):\n",
    "    text = all_emails[i]['Subject'] + \" \" + all_emails[i]['Body']\n",
    "    label = all_emails[i]['Label']\n",
    "\n",
    "    messages.append(text)\n",
    "    labels.append(label)\n",
    "\n",
    "\n",
    "X_train, X_test, y_train, y_test = train_test_split(messages,\n",
    "                                                    labels, \n",
    "                                                    test_size=0.2, \n",
    "                                                    train_size=0.8, \n",
    "                                                    random_state=42)"
   ]
  },
  {
   "cell_type": "code",
   "execution_count": 121,
   "metadata": {},
   "outputs": [],
   "source": [
    "from torchtext.data import get_tokenizer\n",
    "from torchtext.vocab import build_vocab_from_iterator\n",
    "\n",
    "tokenizer = get_tokenizer(\"basic_english\")\n",
    "\n",
    "def token_iterator():\n",
    "    for text in X_train:\n",
    "        yield tokenizer(text)\n",
    "\n",
    "# Build the vocabulary from the iterator\n",
    "vocab = build_vocab_from_iterator(token_iterator(), specials = [\"<unk>\"])\n",
    "vocab.set_default_index(vocab[\"<unk>\"])"
   ]
  },
  {
   "cell_type": "code",
   "execution_count": 118,
   "metadata": {},
   "outputs": [
    {
     "data": {
      "text/plain": [
       "[3, 24, 0]"
      ]
     },
     "execution_count": 118,
     "metadata": {},
     "output_type": "execute_result"
    }
   ],
   "source": [
    "# from torchtext.data.functional import numericalize_tokens_from_iterator\n",
    "# numericalized_data = numericalize_tokens_from_iterator(token_iterator(), vocab)    \n",
    "\n",
    "# #This needs an iterator not a list\n",
    "# print(numericalized_data)\n",
    "\n",
    "\n",
    "\n",
    "def encode_text(text):\n",
    "    tokens = tokenizer(text)\n",
    "    return [vocab[token] for token in tokens]\n",
    "\n",
    "encode_text(\"you are rejected\")\n"
   ]
  }
 ],
 "metadata": {
  "kernelspec": {
   "display_name": "Python 3",
   "language": "python",
   "name": "python3"
  },
  "language_info": {
   "codemirror_mode": {
    "name": "ipython",
    "version": 3
   },
   "file_extension": ".py",
   "mimetype": "text/x-python",
   "name": "python",
   "nbconvert_exporter": "python",
   "pygments_lexer": "ipython3",
   "version": "3.11.8"
  }
 },
 "nbformat": 4,
 "nbformat_minor": 2
}
