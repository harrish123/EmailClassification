{
 "cells": [
  {
   "cell_type": "code",
   "execution_count": 3,
   "metadata": {},
   "outputs": [
    {
     "data": {
      "text/plain": [
       "True"
      ]
     },
     "execution_count": 3,
     "metadata": {},
     "output_type": "execute_result"
    }
   ],
   "source": [
    "import torch\n",
    "torch.__version__\n",
    "torch.cuda.is_available()"
   ]
  },
  {
   "cell_type": "code",
   "execution_count": 8,
   "metadata": {},
   "outputs": [],
   "source": [
    "def read_new_email(file_path):\n",
    "    with open(file_path, 'r', encoding='utf-8') as file:\n",
    "        text = file.read()\n",
    "    \n",
    "    parts = text.split('\"')  \n",
    "    \n",
    "    subject = parts[1].strip()\n",
    "    body = parts[3].strip()\n",
    "    label = parts[5].strip()\n",
    "    \n",
    "    new_email = {'Subject':subject, 'Body':body, 'Label':label}\n",
    "    return new_email"
   ]
  },
  {
   "cell_type": "code",
   "execution_count": 7,
   "metadata": {},
   "outputs": [
    {
     "name": "stdout",
     "output_type": "stream",
     "text": [
      "Email #1: confirmation\n",
      "Email #2: confirmation\n",
      "Email #3: confirmation\n",
      "Email #4: confirmation\n",
      "Email #5: confirmation\n",
      "Email #6: confirmation\n",
      "Email #7: confirmation\n",
      "Email #8: confirmation\n",
      "Email #9: confirmation\n",
      "Email #10: confirmation\n"
     ]
    }
   ],
   "source": [
    "confirmation_emails = []\n",
    "\n",
    "for i in range(1, 92):\n",
    "    file_path = f\"Data/confirmation/conf{i}.txt\"\n",
    "    new_email = read_new_email(file_path)\n",
    "    confirmation_emails.append(new_email)\n",
    "\n",
    "for i in range(0,10):\n",
    "    print(f\"Email #{i+1}: {confirmation_emails[i].get('Label')}\")"
   ]
  },
  {
   "cell_type": "code",
   "execution_count": 15,
   "metadata": {},
   "outputs": [
    {
     "name": "stdout",
     "output_type": "stream",
     "text": [
      "Email #1: rejection\n",
      "Email #2: rejection\n",
      "Email #3: rejection\n",
      "Email #4: rejection\n",
      "Email #5: rejection\n",
      "Email #6: rejection\n",
      "Email #7: rejection\n",
      "Email #8: rejection\n",
      "Email #9: rejection\n",
      "Email #10: rejection\n",
      "Email #11: rejection\n",
      "Email #12: rejection\n",
      "Email #13: rejection\n",
      "Email #14: rejection\n",
      "Email #15: rejection\n",
      "Email #16: rejection\n",
      "Email #17: rejection\n",
      "Email #18: rejection\n",
      "Email #19: rejection\n",
      "Email #20: rejection\n",
      "Email #21: rejection\n",
      "Email #22: rejection\n",
      "Email #23: rejection\n",
      "Email #24: rejection\n",
      "Email #25: rejection\n",
      "Email #26: rejection\n",
      "Email #27: rejection\n",
      "Email #28: rejection\n",
      "Email #29: rejection\n",
      "Email #30: rejection\n",
      "Email #31: rejection\n",
      "Email #32: rejection\n",
      "Email #33: rejection\n",
      "Email #34: rejection\n",
      "Email #35: rejection\n",
      "Email #36: rejection\n",
      "Email #37: rejection\n",
      "Email #38: rejection\n",
      "Email #39: rejection\n",
      "Email #40: rejection\n",
      "Email #41: rejection\n",
      "Email #42: rejection\n",
      "Email #43: rejection\n",
      "Email #44: rejection\n",
      "Email #45: rejection\n",
      "Email #46: rejection\n",
      "Email #47: rejection\n",
      "Email #48: rejection\n",
      "Email #49: rejection\n",
      "Email #50: rejection\n",
      "Email #51: rejection\n",
      "Email #52: rejection\n",
      "Email #53: rejection\n",
      "Email #54: rejection\n",
      "Email #55: rejection\n",
      "Email #56: rejection\n",
      "Email #57: rejection\n",
      "Email #58: rejection\n",
      "Email #59: rejection\n",
      "Email #60: rejection\n",
      "Email #61: rejection\n",
      "Email #62: rejection\n",
      "Email #63: rejection\n",
      "Email #64: rejection\n",
      "Email #65: rejection\n",
      "Email #66: rejection\n",
      "Email #67: rejection\n",
      "Email #68: rejection\n",
      "Email #69: rejection\n",
      "Email #70: rejection\n",
      "Email #71: rejection\n",
      "Email #72: rejection\n",
      "Email #73: rejection\n",
      "Email #74: rejection\n",
      "Email #75: rejection\n",
      "Email #76: rejection\n",
      "Email #77: rejection\n",
      "Email #78: rejection\n",
      "Email #79: rejection\n",
      "Email #80: rejection\n",
      "Email #81: rejection\n",
      "Email #82: rejection\n",
      "Email #83: rejection\n",
      "Email #84: rejection\n",
      "Email #85: rejection\n",
      "Email #86: rejection\n",
      "Email #87: rejection\n",
      "Email #88: rejection\n",
      "Email #89: rejection\n",
      "Email #90: rejection\n",
      "Email #91: rejection\n",
      "Email #92: rejection\n",
      "Email #93: rejection\n",
      "Email #94: rejection\n",
      "Email #95: rejection\n",
      "Email #96: rejection\n",
      "Email #97: rejection\n",
      "Email #98: rejection\n",
      "Email #99: rejection\n",
      "Email #100: rejection\n",
      "Email #101: rejection\n",
      "Email #102: rejection\n",
      "Email #103: rejection\n"
     ]
    }
   ],
   "source": [
    "rejection_emails = []\n",
    "\n",
    "for i in range(1, 104):\n",
    "    file_path = f\"Data/rejections/rejection{i}.txt\"\n",
    "    new_email = read_new_email(file_path)\n",
    "    rejection_emails.append(new_email)\n",
    "\n",
    "\n",
    "for i in range(0, len(rejection_emails)):\n",
    "    print(f\"Email #{i+1}: {rejection_emails[i].get('Label')}\")"
   ]
  }
 ],
 "metadata": {
  "kernelspec": {
   "display_name": "Python 3",
   "language": "python",
   "name": "python3"
  },
  "language_info": {
   "codemirror_mode": {
    "name": "ipython",
    "version": 3
   },
   "file_extension": ".py",
   "mimetype": "text/x-python",
   "name": "python",
   "nbconvert_exporter": "python",
   "pygments_lexer": "ipython3",
   "version": "3.11.8"
  }
 },
 "nbformat": 4,
 "nbformat_minor": 2
}
